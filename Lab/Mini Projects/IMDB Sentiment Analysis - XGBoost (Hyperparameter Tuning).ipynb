{
 "cells": [
  {
   "cell_type": "markdown",
   "metadata": {},
   "source": [
    "# Sentiment Analysis\n",
    "\n",
    "## Using XGBoost in SageMaker\n",
    "\n",
    "_Deep Learning Nanodegree Program | Deployment_\n",
    "\n",
    "---\n",
    "\n",
    "In this example of using Amazon's SageMaker service we will construct a random tree model to predict the sentiment of a movie review. You may have seen a version of this example in a pervious lesson although it would have been done using the sklearn package. Instead, we will be using the XGBoost package as it is provided to us by Amazon.\n",
    "\n",
    "## Instructions\n",
    "\n",
    "Some template code has already been provided for you, and you will need to implement additional functionality to successfully complete this notebook. You will not need to modify the included code beyond what is requested. Sections that begin with '**TODO**' in the header indicate that you need to complete or implement some portion within them. Instructions will be provided for each section and the specifics of the implementation are marked in the code block with a `# TODO: ...` comment. Please be sure to read the instructions carefully!\n",
    "\n",
    "In addition to implementing code, there will be questions for you to answer which relate to the task and your implementation. Each section where you will answer a question is preceded by a '**Question:**' header. Carefully read each question and provide your answer below the '**Answer:**' header by editing the Markdown cell.\n",
    "\n",
    "> **Note**: Code and Markdown cells can be executed using the **Shift+Enter** keyboard shortcut. In addition, a cell can be edited by typically clicking it (double-click for Markdown cells) or by pressing **Enter** while it is highlighted."
   ]
  },
  {
   "cell_type": "markdown",
   "metadata": {},
   "source": [
    "## Step 1: Downloading the data\n",
    "\n",
    "The dataset we are going to use is very popular among researchers in Natural Language Processing, usually referred to as the [IMDb dataset](http://ai.stanford.edu/~amaas/data/sentiment/). It consists of movie reviews from the website [imdb.com](http://www.imdb.com/), each labeled as either '**pos**itive', if the reviewer enjoyed the film, or '**neg**ative' otherwise.\n",
    "\n",
    "> Maas, Andrew L., et al. [Learning Word Vectors for Sentiment Analysis](http://ai.stanford.edu/~amaas/data/sentiment/). In _Proceedings of the 49th Annual Meeting of the Association for Computational Linguistics: Human Language Technologies_. Association for Computational Linguistics, 2011.\n",
    "\n",
    "We begin by using some Jupyter Notebook magic to download and extract the dataset."
   ]
  },
  {
   "cell_type": "code",
   "execution_count": 1,
   "metadata": {},
   "outputs": [
    {
     "name": "stdout",
     "output_type": "stream",
     "text": [
      "mkdir: cannot create directory ‘../data’: File exists\n",
      "--2020-06-02 11:02:10--  http://ai.stanford.edu/~amaas/data/sentiment/aclImdb_v1.tar.gz\n",
      "Resolving ai.stanford.edu (ai.stanford.edu)... 171.64.68.10\n",
      "Connecting to ai.stanford.edu (ai.stanford.edu)|171.64.68.10|:80... connected.\n",
      "HTTP request sent, awaiting response... 200 OK\n",
      "Length: 84125825 (80M) [application/x-gzip]\n",
      "Saving to: ‘../data/aclImdb_v1.tar.gz’\n",
      "\n",
      "../data/aclImdb_v1. 100%[===================>]  80.23M  22.3MB/s    in 5.1s    \n",
      "\n",
      "2020-06-02 11:02:16 (15.8 MB/s) - ‘../data/aclImdb_v1.tar.gz’ saved [84125825/84125825]\n",
      "\n"
     ]
    }
   ],
   "source": [
    "%mkdir ../data\n",
    "!wget -O ../data/aclImdb_v1.tar.gz http://ai.stanford.edu/~amaas/data/sentiment/aclImdb_v1.tar.gz\n",
    "!tar -zxf ../data/aclImdb_v1.tar.gz -C ../data"
   ]
  },
  {
   "cell_type": "markdown",
   "metadata": {},
   "source": [
    "## Step 2: Preparing the data\n",
    "\n",
    "The data we have downloaded is split into various files, each of which contains a single review. It will be much easier going forward if we combine these individual files into two large files, one for training and one for testing."
   ]
  },
  {
   "cell_type": "code",
   "execution_count": 2,
   "metadata": {},
   "outputs": [],
   "source": [
    "import os\n",
    "import glob\n",
    "\n",
    "def read_imdb_data(data_dir='../data/aclImdb'):\n",
    "    data = {}\n",
    "    labels = {}\n",
    "    \n",
    "    for data_type in ['train', 'test']:\n",
    "        data[data_type] = {}\n",
    "        labels[data_type] = {}\n",
    "        \n",
    "        for sentiment in ['pos', 'neg']:\n",
    "            data[data_type][sentiment] = []\n",
    "            labels[data_type][sentiment] = []\n",
    "            \n",
    "            path = os.path.join(data_dir, data_type, sentiment, '*.txt')\n",
    "            files = glob.glob(path)\n",
    "            \n",
    "            for f in files:\n",
    "                with open(f) as review:\n",
    "                    data[data_type][sentiment].append(review.read())\n",
    "                    # Here we represent a positive review by '1' and a negative review by '0'\n",
    "                    labels[data_type][sentiment].append(1 if sentiment == 'pos' else 0)\n",
    "                    \n",
    "            assert len(data[data_type][sentiment]) == len(labels[data_type][sentiment]), \\\n",
    "                    \"{}/{} data size does not match labels size\".format(data_type, sentiment)\n",
    "                \n",
    "    return data, labels"
   ]
  },
  {
   "cell_type": "code",
   "execution_count": 3,
   "metadata": {},
   "outputs": [
    {
     "name": "stdout",
     "output_type": "stream",
     "text": [
      "IMDB reviews: train = 12500 pos / 12500 neg, test = 12500 pos / 12500 neg\n"
     ]
    }
   ],
   "source": [
    "data, labels = read_imdb_data()\n",
    "print(\"IMDB reviews: train = {} pos / {} neg, test = {} pos / {} neg\".format(\n",
    "            len(data['train']['pos']), len(data['train']['neg']),\n",
    "            len(data['test']['pos']), len(data['test']['neg'])))"
   ]
  },
  {
   "cell_type": "code",
   "execution_count": 4,
   "metadata": {},
   "outputs": [],
   "source": [
    "from sklearn.utils import shuffle\n",
    "\n",
    "def prepare_imdb_data(data, labels):\n",
    "    \"\"\"Prepare training and test sets from IMDb movie reviews.\"\"\"\n",
    "    \n",
    "    #Combine positive and negative reviews and labels\n",
    "    data_train = data['train']['pos'] + data['train']['neg']\n",
    "    data_test = data['test']['pos'] + data['test']['neg']\n",
    "    labels_train = labels['train']['pos'] + labels['train']['neg']\n",
    "    labels_test = labels['test']['pos'] + labels['test']['neg']\n",
    "    \n",
    "    #Shuffle reviews and corresponding labels within training and test sets\n",
    "    data_train, labels_train = shuffle(data_train, labels_train)\n",
    "    data_test, labels_test = shuffle(data_test, labels_test)\n",
    "    \n",
    "    # Return a unified training data, test data, training labels, test labets\n",
    "    return data_train, data_test, labels_train, labels_test"
   ]
  },
  {
   "cell_type": "code",
   "execution_count": 5,
   "metadata": {},
   "outputs": [
    {
     "name": "stdout",
     "output_type": "stream",
     "text": [
      "IMDb reviews (combined): train = 25000, test = 25000\n"
     ]
    }
   ],
   "source": [
    "train_X, test_X, train_y, test_y = prepare_imdb_data(data, labels)\n",
    "print(\"IMDb reviews (combined): train = {}, test = {}\".format(len(train_X), len(test_X)))"
   ]
  },
  {
   "cell_type": "code",
   "execution_count": 6,
   "metadata": {},
   "outputs": [
    {
     "data": {
      "text/plain": [
       "'This is one of the very worst films Clark Gable made. Only PARNELL was obviously worse. It is just so painfully clichéd and the dialog is so lousy that it is something neither Gable nor Jean Harlow should have been proud of making.<br /><br />Gable is a heel whose illegal activities result in his girl going\\' to the slammer (like the gangster talk?). She holds out hope that he\\'ll do the right thing but he just leaves her there--unknown to either of them, gosh, that she\\'s \"in the family way\". Eventually, the rogue returns to do the right thing and somehow they tie this all together into a happy ending! They seemed to have forgotten about Gable\\'s needing to take the rap and spend several years in the hoosegow. Leonard Maltin says \"the stars are at their best here\". By what standard? Best at producing unintended chuckles? Gimme a break!<br /><br />PS--after saying this, my wife thinks Leonard Maltin is going to find me and kick my butt. Hmmm. However, despite my comment, I think Mr. Maltin is the finest reviewer and human being on the planet (I hope that appeased him).<br /><br />UPDATE--2/2/08. Because I disliked this film so much the first time (especially the ridiculous ending), I decided to watch it once again. After all, sometimes when I watch a film again I like it much more and realize that I was a bit too harsh. While that has been the case with several films in recent months, I still disliked this film--even the second time. Most of it was not because of the first half of the film. In the first half, Harlow\\'s character was amazingly stupid but at least it was believable. But when she was sent to prison, it was all clichés until the final ridiculous marriage scene occurred. The bottom line is that this sequence is embarrassingly dumb--it just makes no sense at all and is akin to turning the movie into some wacky fairy tale instead of a love story about two cons. I stand by my original review (despite all the \"NOT HELPFULS\") and think that aside from PARNELL and possibly POLLY AT THE CIRCUS, it might just be the worst Gable film.'"
      ]
     },
     "execution_count": 6,
     "metadata": {},
     "output_type": "execute_result"
    }
   ],
   "source": [
    "train_X[100]"
   ]
  },
  {
   "cell_type": "markdown",
   "metadata": {},
   "source": [
    "## Step 3: Processing the data\n",
    "\n",
    "Now that we have our training and testing datasets merged and ready to use, we need to start processing the raw data into something that will be useable by our machine learning algorithm. To begin with, we remove any html formatting that may appear in the reviews and perform some standard natural language processing in order to homogenize the data."
   ]
  },
  {
   "cell_type": "code",
   "execution_count": 7,
   "metadata": {},
   "outputs": [
    {
     "name": "stdout",
     "output_type": "stream",
     "text": [
      "[nltk_data] Downloading package stopwords to\n",
      "[nltk_data]     /home/ec2-user/nltk_data...\n",
      "[nltk_data]   Package stopwords is already up-to-date!\n"
     ]
    }
   ],
   "source": [
    "import nltk\n",
    "nltk.download(\"stopwords\")\n",
    "from nltk.corpus import stopwords\n",
    "from nltk.stem.porter import *\n",
    "stemmer = PorterStemmer()"
   ]
  },
  {
   "cell_type": "code",
   "execution_count": 8,
   "metadata": {},
   "outputs": [],
   "source": [
    "import re\n",
    "from bs4 import BeautifulSoup\n",
    "\n",
    "def review_to_words(review):\n",
    "    text = BeautifulSoup(review, \"html.parser\").get_text() # Remove HTML tags\n",
    "    text = re.sub(r\"[^a-zA-Z0-9]\", \" \", text.lower()) # Convert to lower case\n",
    "    words = text.split() # Split string into words\n",
    "    words = [w for w in words if w not in stopwords.words(\"english\")] # Remove stopwords\n",
    "    words = [PorterStemmer().stem(w) for w in words] # stem\n",
    "    \n",
    "    return words"
   ]
  },
  {
   "cell_type": "code",
   "execution_count": 9,
   "metadata": {},
   "outputs": [],
   "source": [
    "import pickle\n",
    "\n",
    "cache_dir = os.path.join(\"../cache\", \"sentiment_analysis\")  # where to store cache files\n",
    "os.makedirs(cache_dir, exist_ok=True)  # ensure cache directory exists\n",
    "\n",
    "def preprocess_data(data_train, data_test, labels_train, labels_test,\n",
    "                    cache_dir=cache_dir, cache_file=\"preprocessed_data.pkl\"):\n",
    "    \"\"\"Convert each review to words; read from cache if available.\"\"\"\n",
    "\n",
    "    # If cache_file is not None, try to read from it first\n",
    "    cache_data = None\n",
    "    if cache_file is not None:\n",
    "        try:\n",
    "            with open(os.path.join(cache_dir, cache_file), \"rb\") as f:\n",
    "                cache_data = pickle.load(f)\n",
    "            print(\"Read preprocessed data from cache file:\", cache_file)\n",
    "        except:\n",
    "            pass  # unable to read from cache, but that's okay\n",
    "    \n",
    "    # If cache is missing, then do the heavy lifting\n",
    "    if cache_data is None:\n",
    "        # Preprocess training and test data to obtain words for each review\n",
    "        #words_train = list(map(review_to_words, data_train))\n",
    "        #words_test = list(map(review_to_words, data_test))\n",
    "        words_train = [review_to_words(review) for review in data_train]\n",
    "        words_test = [review_to_words(review) for review in data_test]\n",
    "        \n",
    "        # Write to cache file for future runs\n",
    "        if cache_file is not None:\n",
    "            cache_data = dict(words_train=words_train, words_test=words_test,\n",
    "                              labels_train=labels_train, labels_test=labels_test)\n",
    "            with open(os.path.join(cache_dir, cache_file), \"wb\") as f:\n",
    "                pickle.dump(cache_data, f)\n",
    "            print(\"Wrote preprocessed data to cache file:\", cache_file)\n",
    "    else:\n",
    "        # Unpack data loaded from cache file\n",
    "        words_train, words_test, labels_train, labels_test = (cache_data['words_train'],\n",
    "                cache_data['words_test'], cache_data['labels_train'], cache_data['labels_test'])\n",
    "    \n",
    "    return words_train, words_test, labels_train, labels_test"
   ]
  },
  {
   "cell_type": "code",
   "execution_count": 10,
   "metadata": {},
   "outputs": [
    {
     "name": "stdout",
     "output_type": "stream",
     "text": [
      "Read preprocessed data from cache file: preprocessed_data.pkl\n"
     ]
    }
   ],
   "source": [
    "# Preprocess data\n",
    "train_X, test_X, train_y, test_y = preprocess_data(train_X, test_X, train_y, test_y)"
   ]
  },
  {
   "cell_type": "markdown",
   "metadata": {},
   "source": [
    "### Extract Bag-of-Words features\n",
    "\n",
    "For the model we will be implementing, rather than using the reviews directly, we are going to transform each review into a Bag-of-Words feature representation. Keep in mind that 'in the wild' we will only have access to the training set so our transformer can only use the training set to construct a representation."
   ]
  },
  {
   "cell_type": "code",
   "execution_count": 11,
   "metadata": {},
   "outputs": [],
   "source": [
    "import numpy as np\n",
    "from sklearn.feature_extraction.text import CountVectorizer\n",
    "from sklearn.externals import joblib\n",
    "# joblib is an enhanced version of pickle that is more efficient for storing NumPy arrays\n",
    "\n",
    "def extract_BoW_features(words_train, words_test, vocabulary_size=5000,\n",
    "                         cache_dir=cache_dir, cache_file=\"bow_features.pkl\"):\n",
    "    \"\"\"Extract Bag-of-Words for a given set of documents, already preprocessed into words.\"\"\"\n",
    "    \n",
    "    # If cache_file is not None, try to read from it first\n",
    "    cache_data = None\n",
    "    if cache_file is not None:\n",
    "        try:\n",
    "            with open(os.path.join(cache_dir, cache_file), \"rb\") as f:\n",
    "                cache_data = joblib.load(f)\n",
    "            print(\"Read features from cache file:\", cache_file)\n",
    "        except:\n",
    "            pass  # unable to read from cache, but that's okay\n",
    "    \n",
    "    # If cache is missing, then do the heavy lifting\n",
    "    if cache_data is None:\n",
    "        # Fit a vectorizer to training documents and use it to transform them\n",
    "        # NOTE: Training documents have already been preprocessed and tokenized into words;\n",
    "        #       pass in dummy functions to skip those steps, e.g. preprocessor=lambda x: x\n",
    "        vectorizer = CountVectorizer(max_features=vocabulary_size,\n",
    "                preprocessor=lambda x: x, tokenizer=lambda x: x)  # already preprocessed\n",
    "        features_train = vectorizer.fit_transform(words_train).toarray()\n",
    "\n",
    "        # Apply the same vectorizer to transform the test documents (ignore unknown words)\n",
    "        features_test = vectorizer.transform(words_test).toarray()\n",
    "        \n",
    "        # NOTE: Remember to convert the features using .toarray() for a compact representation\n",
    "        \n",
    "        # Write to cache file for future runs (store vocabulary as well)\n",
    "        if cache_file is not None:\n",
    "            vocabulary = vectorizer.vocabulary_\n",
    "            cache_data = dict(features_train=features_train, features_test=features_test,\n",
    "                             vocabulary=vocabulary)\n",
    "            with open(os.path.join(cache_dir, cache_file), \"wb\") as f:\n",
    "                joblib.dump(cache_data, f)\n",
    "            print(\"Wrote features to cache file:\", cache_file)\n",
    "    else:\n",
    "        # Unpack data loaded from cache file\n",
    "        features_train, features_test, vocabulary = (cache_data['features_train'],\n",
    "                cache_data['features_test'], cache_data['vocabulary'])\n",
    "    \n",
    "    # Return both the extracted features as well as the vocabulary\n",
    "    return features_train, features_test, vocabulary"
   ]
  },
  {
   "cell_type": "code",
   "execution_count": 12,
   "metadata": {},
   "outputs": [
    {
     "name": "stdout",
     "output_type": "stream",
     "text": [
      "Read features from cache file: bow_features.pkl\n"
     ]
    }
   ],
   "source": [
    "# Extract Bag of Words features for both training and test datasets\n",
    "train_X, test_X, vocabulary = extract_BoW_features(train_X, test_X)"
   ]
  },
  {
   "cell_type": "markdown",
   "metadata": {},
   "source": [
    "## Step 4: Classification using XGBoost\n",
    "\n",
    "Now that we have created the feature representation of our training (and testing) data, it is time to start setting up and using the XGBoost classifier provided by SageMaker.\n",
    "\n",
    "### Writing the dataset\n",
    "\n",
    "The XGBoost classifier that we will be using requires the dataset to be written to a file and stored using Amazon S3. To do this, we will start by splitting the training dataset into two parts, the data we will train the model with and a validation set. Then, we will write those datasets to a file and upload the files to S3. In addition, we will write the test set input to a file and upload the file to S3. This is so that we can use SageMakers Batch Transform functionality to test our model once we've fit it."
   ]
  },
  {
   "cell_type": "code",
   "execution_count": 13,
   "metadata": {},
   "outputs": [],
   "source": [
    "import pandas as pd\n",
    "\n",
    "val_X = pd.DataFrame(train_X[:10000])\n",
    "train_X = pd.DataFrame(train_X[10000:])\n",
    "\n",
    "val_y = pd.DataFrame(train_y[:10000])\n",
    "train_y = pd.DataFrame(train_y[10000:])\n",
    "\n",
    "test_y = pd.DataFrame(test_y)\n",
    "test_X = pd.DataFrame(test_X)"
   ]
  },
  {
   "cell_type": "markdown",
   "metadata": {},
   "source": [
    "The documentation for the XGBoost algorithm in SageMaker requires that the saved datasets should contain no headers or index and that for the training and validation data, the label should occur first for each sample.\n",
    "\n",
    "For more information about this and other algorithms, the SageMaker developer documentation can be found on __[Amazon's website.](https://docs.aws.amazon.com/sagemaker/latest/dg/)__"
   ]
  },
  {
   "cell_type": "code",
   "execution_count": 14,
   "metadata": {},
   "outputs": [],
   "source": [
    "# First we make sure that the local directory in which we'd like to store the training and validation csv files exists.\n",
    "data_dir = '../data/xgboost'\n",
    "if not os.path.exists(data_dir):\n",
    "    os.makedirs(data_dir)"
   ]
  },
  {
   "cell_type": "code",
   "execution_count": 15,
   "metadata": {},
   "outputs": [],
   "source": [
    "# First, save the test data to test.csv in the data_dir directory. Note that we do not save the associated ground truth\n",
    "# labels, instead we will use them later to compare with our model output.\n",
    "\n",
    "#pd.concat([test_y, test_X], axis=1).to_csv(os.path.join(data_dir, 'test.csv'), header=False, index=False)\n",
    "pd.DataFrame(test_X).to_csv(os.path.join(data_dir, 'test.csv'), header=False, index=False)\n",
    "\n",
    "pd.concat([val_y, val_X], axis=1).to_csv(os.path.join(data_dir, 'validation.csv'), header=False, index=False)\n",
    "pd.concat([train_y, train_X], axis=1).to_csv(os.path.join(data_dir, 'train.csv'), header=False, index=False)"
   ]
  },
  {
   "cell_type": "code",
   "execution_count": 16,
   "metadata": {},
   "outputs": [],
   "source": [
    "# To save a bit of memory we can set text_X, train_X, val_X, train_y and val_y to None.\n",
    "\n",
    "train_X = val_X = train_y = val_y = None"
   ]
  },
  {
   "cell_type": "markdown",
   "metadata": {},
   "source": [
    "### Uploading Training / Validation files to S3\n",
    "\n",
    "Amazon's S3 service allows us to store files that can be access by both the built-in training models such as the XGBoost model we will be using as well as custom models such as the one we will see a little later.\n",
    "\n",
    "For this, and most other tasks we will be doing using SageMaker, there are two methods we could use. The first is to use the low level functionality of SageMaker which requires knowing each of the objects involved in the SageMaker environment. The second is to use the high level functionality in which certain choices have been made on the user's behalf. The low level approach benefits from allowing the user a great deal of flexibility while the high level approach makes development much quicker. For our purposes we will opt to use the high level approach although using the low-level approach is certainly an option.\n",
    "\n",
    "Recall the method `upload_data()` which is a member of object representing our current SageMaker session. What this method does is upload the data to the default bucket (which is created if it does not exist) into the path described by the key_prefix variable. To see this for yourself, once you have uploaded the data files, go to the S3 console and look to see where the files have been uploaded.\n",
    "\n",
    "For additional resources, see the __[SageMaker API documentation](http://sagemaker.readthedocs.io/en/latest/)__ and in addition the __[SageMaker Developer Guide.](https://docs.aws.amazon.com/sagemaker/latest/dg/)__"
   ]
  },
  {
   "cell_type": "code",
   "execution_count": 17,
   "metadata": {},
   "outputs": [],
   "source": [
    "import sagemaker\n",
    "\n",
    "session = sagemaker.Session() # Store the current SageMaker session\n",
    "\n",
    "# S3 prefix (which folder will we use)\n",
    "prefix = 'sentiment-xgboost'\n",
    "\n",
    "test_location = session.upload_data(os.path.join(data_dir, 'test.csv'), key_prefix=prefix)\n",
    "val_location = session.upload_data(os.path.join(data_dir, 'validation.csv'), key_prefix=prefix)\n",
    "train_location = session.upload_data(os.path.join(data_dir, 'train.csv'), key_prefix=prefix)"
   ]
  },
  {
   "cell_type": "markdown",
   "metadata": {},
   "source": [
    "### (TODO) Creating a hypertuned XGBoost model\n",
    "\n",
    "Now that the data has been uploaded it is time to create the XGBoost model. As in the Boston Housing notebook, the first step is to create an estimator object which will be used as the *base* of your hyperparameter tuning job."
   ]
  },
  {
   "cell_type": "code",
   "execution_count": 18,
   "metadata": {},
   "outputs": [],
   "source": [
    "from sagemaker import get_execution_role\n",
    "\n",
    "# Our current execution role is require when creating the model as the training\n",
    "# and inference code will need to access the model artifacts.\n",
    "role = get_execution_role()"
   ]
  },
  {
   "cell_type": "code",
   "execution_count": 19,
   "metadata": {},
   "outputs": [
    {
     "name": "stderr",
     "output_type": "stream",
     "text": [
      "WARNING:root:There is a more up to date SageMaker XGBoost image. To use the newer image, please set 'repo_version'='0.90-1'. For example:\n",
      "\tget_image_uri(region, 'xgboost', '0.90-1').\n"
     ]
    }
   ],
   "source": [
    "# We need to retrieve the location of the container which is provided by Amazon for using XGBoost.\n",
    "# As a matter of convenience, the training and inference code both use the same container.\n",
    "from sagemaker.amazon.amazon_estimator import get_image_uri\n",
    "\n",
    "container = get_image_uri(session.boto_region_name, 'xgboost')"
   ]
  },
  {
   "cell_type": "code",
   "execution_count": 20,
   "metadata": {},
   "outputs": [],
   "source": [
    "# TODO: Create a SageMaker estimator using the container location determined in the previous cell.\n",
    "#       It is recommended that you use a single training instance of type ml.m4.xlarge. It is also\n",
    "#       recommended that you use 's3://{}/{}/output'.format(session.default_bucket(), prefix) as the\n",
    "#       output path.\n",
    "\n",
    "xgb = sagemaker.estimator.Estimator(container, # The location of the container we wish to use\n",
    "                                    role,                                    # What is our current IAM Role\n",
    "                                    train_instance_count=1,                  # How many compute instances\n",
    "                                    train_instance_type='ml.m4.xlarge',      # What kind of compute instances\n",
    "                                    output_path='s3://{}/{}/output'.format(session.default_bucket(), prefix),\n",
    "                                    sagemaker_session=session)\n",
    "\n",
    "# TODO: Set the XGBoost hyperparameters in the xgb object. Don't forget that in this case we have a binary\n",
    "#       label so we should be using the 'binary:logistic' objective.\n",
    "\n",
    "xgb.set_hyperparameters(max_depth=5,\n",
    "                        eta=0.2,\n",
    "                        gamma=4,\n",
    "                        min_child_weight=6,\n",
    "                        subsample=0.8,\n",
    "                        silent=0,\n",
    "                        objective='binary:logistic',\n",
    "                        early_stopping_rounds=10,\n",
    "                        num_round=500)"
   ]
  },
  {
   "cell_type": "markdown",
   "metadata": {},
   "source": [
    "### (TODO) Create the hyperparameter tuner\n",
    "\n",
    "Now that the base estimator has been set up we need to construct a hyperparameter tuner object which we will use to request SageMaker construct a hyperparameter tuning job.\n",
    "\n",
    "**Note:** Training a single sentiment analysis XGBoost model takes longer than training a Boston Housing XGBoost model so if you don't want the hyperparameter tuning job to take too long, make sure to not set the total number of models (jobs) too high."
   ]
  },
  {
   "cell_type": "code",
   "execution_count": 21,
   "metadata": {},
   "outputs": [],
   "source": [
    "# First, make sure to import the relevant objects used to construct the tuner\n",
    "from sagemaker.tuner import IntegerParameter, ContinuousParameter, HyperparameterTuner\n",
    "\n",
    "# TODO: Create the hyperparameter tuner object\n",
    "\n",
    "\n",
    "xgb_hyperparameter_tuner = HyperparameterTuner(estimator = xgb, # The estimator object to use as the basis for the training jobs.\n",
    "                                               objective_metric_name = 'validation:rmse', # The metric used to compare trained models.\n",
    "                                               objective_type = 'Minimize', # Whether we wish to minimize or maximize the metric.\n",
    "                                               max_jobs = 6, # The total number of models to train\n",
    "                                               max_parallel_jobs = 3, # The number of models to train in parallel\n",
    "                                               hyperparameter_ranges = {\n",
    "                                                    'max_depth': IntegerParameter(3, 12),\n",
    "                                                    'eta'      : ContinuousParameter(0.05, 0.5),\n",
    "                                                    'min_child_weight': IntegerParameter(2, 8),\n",
    "                                                    'subsample': ContinuousParameter(0.5, 0.9),\n",
    "                                                    'gamma': ContinuousParameter(0, 10),\n",
    "                                               })\n"
   ]
  },
  {
   "cell_type": "markdown",
   "metadata": {},
   "source": [
    "### Fit the hyperparameter tuner\n",
    "\n",
    "Now that the hyperparameter tuner object has been constructed, it is time to fit the various models and find the best performing model."
   ]
  },
  {
   "cell_type": "code",
   "execution_count": 22,
   "metadata": {},
   "outputs": [],
   "source": [
    "s3_input_train = sagemaker.s3_input(s3_data=train_location, content_type='csv')\n",
    "s3_input_validation = sagemaker.s3_input(s3_data=val_location, content_type='csv')"
   ]
  },
  {
   "cell_type": "code",
   "execution_count": 23,
   "metadata": {},
   "outputs": [],
   "source": [
    "xgb_hyperparameter_tuner.fit({'train': s3_input_train, 'validation': s3_input_validation})"
   ]
  },
  {
   "cell_type": "markdown",
   "metadata": {},
   "source": [
    "Remember that the tuning job is constructed and run in the background so if we want to see the progress of our training job we need to call the `wait()` method."
   ]
  },
  {
   "cell_type": "code",
   "execution_count": 24,
   "metadata": {},
   "outputs": [
    {
     "name": "stdout",
     "output_type": "stream",
     "text": [
      ".......................................................................................................................................................................................................................................................................................................................................................................!\n"
     ]
    }
   ],
   "source": [
    "xgb_hyperparameter_tuner.wait()"
   ]
  },
  {
   "cell_type": "markdown",
   "metadata": {},
   "source": [
    "### (TODO) Testing the model\n",
    "\n",
    "Now that we've run our hyperparameter tuning job, it's time to see how well the best performing model actually performs. To do this we will use SageMaker's Batch Transform functionality. Batch Transform is a convenient way to perform inference on a large dataset in a way that is not realtime. That is, we don't necessarily need to use our model's results immediately and instead we can peform inference on a large number of samples. An example of this in industry might be peforming an end of month report. This method of inference can also be useful to us as it means to can perform inference on our entire test set. \n",
    "\n",
    "Remember that in order to create a transformer object to perform the batch transform job, we need a trained estimator object. We can do that using the `attach()` method, creating an estimator object which is attached to the best trained job."
   ]
  },
  {
   "cell_type": "code",
   "execution_count": 25,
   "metadata": {},
   "outputs": [
    {
     "name": "stdout",
     "output_type": "stream",
     "text": [
      "2020-06-02 11:41:21 Starting - Preparing the instances for training\n",
      "2020-06-02 11:41:21 Downloading - Downloading input data\n",
      "2020-06-02 11:41:21 Training - Training image download completed. Training in progress.\n",
      "2020-06-02 11:41:21 Uploading - Uploading generated training model\n",
      "2020-06-02 11:41:21 Completed - Training job completed\u001b[34mArguments: train\u001b[0m\n",
      "\u001b[34m[2020-06-02:11:30:38:INFO] Running standalone xgboost training.\u001b[0m\n",
      "\u001b[34m[2020-06-02:11:30:38:INFO] Setting up HPO optimized metric to be : rmse\u001b[0m\n",
      "\u001b[34m[2020-06-02:11:30:38:INFO] File size need to be processed in the node: 238.47mb. Available memory size in the node: 8477.79mb\u001b[0m\n",
      "\u001b[34m[2020-06-02:11:30:38:INFO] Determined delimiter of CSV input is ','\u001b[0m\n",
      "\u001b[34m[11:30:38] S3DistributionType set as FullyReplicated\u001b[0m\n",
      "\u001b[34m[11:30:40] 15000x5000 matrix with 75000000 entries loaded from /opt/ml/input/data/train?format=csv&label_column=0&delimiter=,\u001b[0m\n",
      "\u001b[34m[2020-06-02:11:30:40:INFO] Determined delimiter of CSV input is ','\u001b[0m\n",
      "\u001b[34m[11:30:40] S3DistributionType set as FullyReplicated\u001b[0m\n",
      "\u001b[34m[11:30:41] 10000x5000 matrix with 50000000 entries loaded from /opt/ml/input/data/validation?format=csv&label_column=0&delimiter=,\u001b[0m\n",
      "\u001b[34m[11:30:46] src/tree/updater_prune.cc:74: tree pruning end, 1 roots, 148 extra nodes, 58 pruned nodes, max_depth=12\u001b[0m\n",
      "\u001b[34m[0]#011train-rmse:0.47025#011validation-rmse:0.472809\u001b[0m\n",
      "\u001b[34mMultiple eval metrics have been passed: 'validation-rmse' will be used for early stopping.\n",
      "\u001b[0m\n",
      "\u001b[34mWill train until validation-rmse hasn't improved in 10 rounds.\u001b[0m\n",
      "\u001b[34m[11:30:50] src/tree/updater_prune.cc:74: tree pruning end, 1 roots, 144 extra nodes, 64 pruned nodes, max_depth=12\u001b[0m\n",
      "\u001b[34m[1]#011train-rmse:0.448205#011validation-rmse:0.453306\u001b[0m\n",
      "\u001b[34m[11:30:54] src/tree/updater_prune.cc:74: tree pruning end, 1 roots, 140 extra nodes, 80 pruned nodes, max_depth=12\u001b[0m\n",
      "\u001b[34m[2]#011train-rmse:0.431629#011validation-rmse:0.439388\u001b[0m\n",
      "\u001b[34m[11:30:57] src/tree/updater_prune.cc:74: tree pruning end, 1 roots, 130 extra nodes, 70 pruned nodes, max_depth=12\u001b[0m\n",
      "\u001b[34m[3]#011train-rmse:0.417684#011validation-rmse:0.428704\u001b[0m\n",
      "\u001b[34m[11:31:00] src/tree/updater_prune.cc:74: tree pruning end, 1 roots, 114 extra nodes, 76 pruned nodes, max_depth=12\u001b[0m\n",
      "\u001b[34m[4]#011train-rmse:0.406373#011validation-rmse:0.419611\u001b[0m\n",
      "\u001b[34m[11:31:04] src/tree/updater_prune.cc:74: tree pruning end, 1 roots, 142 extra nodes, 72 pruned nodes, max_depth=12\u001b[0m\n",
      "\u001b[34m[5]#011train-rmse:0.396408#011validation-rmse:0.412347\u001b[0m\n",
      "\u001b[34m[11:31:07] src/tree/updater_prune.cc:74: tree pruning end, 1 roots, 76 extra nodes, 70 pruned nodes, max_depth=12\u001b[0m\n",
      "\u001b[34m[6]#011train-rmse:0.388689#011validation-rmse:0.405756\u001b[0m\n",
      "\u001b[34m[11:31:10] src/tree/updater_prune.cc:74: tree pruning end, 1 roots, 84 extra nodes, 74 pruned nodes, max_depth=12\u001b[0m\n",
      "\u001b[34m[7]#011train-rmse:0.381659#011validation-rmse:0.399885\u001b[0m\n",
      "\u001b[34m[11:31:14] src/tree/updater_prune.cc:74: tree pruning end, 1 roots, 106 extra nodes, 76 pruned nodes, max_depth=12\u001b[0m\n",
      "\u001b[34m[8]#011train-rmse:0.374605#011validation-rmse:0.39499\u001b[0m\n",
      "\u001b[34m[11:31:17] src/tree/updater_prune.cc:74: tree pruning end, 1 roots, 104 extra nodes, 64 pruned nodes, max_depth=12\u001b[0m\n",
      "\u001b[34m[9]#011train-rmse:0.368724#011validation-rmse:0.390465\u001b[0m\n",
      "\u001b[34m[11:31:20] src/tree/updater_prune.cc:74: tree pruning end, 1 roots, 64 extra nodes, 78 pruned nodes, max_depth=12\u001b[0m\n",
      "\u001b[34m[10]#011train-rmse:0.363892#011validation-rmse:0.38657\u001b[0m\n",
      "\u001b[34m[11:31:24] src/tree/updater_prune.cc:74: tree pruning end, 1 roots, 88 extra nodes, 74 pruned nodes, max_depth=12\u001b[0m\n",
      "\u001b[34m[11]#011train-rmse:0.358852#011validation-rmse:0.383408\u001b[0m\n",
      "\u001b[34m[11:31:27] src/tree/updater_prune.cc:74: tree pruning end, 1 roots, 80 extra nodes, 54 pruned nodes, max_depth=12\u001b[0m\n",
      "\u001b[34m[12]#011train-rmse:0.353833#011validation-rmse:0.379626\u001b[0m\n",
      "\u001b[34m[11:31:30] src/tree/updater_prune.cc:74: tree pruning end, 1 roots, 68 extra nodes, 86 pruned nodes, max_depth=12\u001b[0m\n",
      "\u001b[34m[13]#011train-rmse:0.349722#011validation-rmse:0.377003\u001b[0m\n",
      "\u001b[34m[11:31:34] src/tree/updater_prune.cc:74: tree pruning end, 1 roots, 100 extra nodes, 72 pruned nodes, max_depth=12\u001b[0m\n",
      "\u001b[34m[14]#011train-rmse:0.345306#011validation-rmse:0.374108\u001b[0m\n",
      "\u001b[34m[11:31:37] src/tree/updater_prune.cc:74: tree pruning end, 1 roots, 92 extra nodes, 88 pruned nodes, max_depth=12\u001b[0m\n",
      "\u001b[34m[15]#011train-rmse:0.34118#011validation-rmse:0.371644\u001b[0m\n",
      "\u001b[34m[11:31:40] src/tree/updater_prune.cc:74: tree pruning end, 1 roots, 50 extra nodes, 54 pruned nodes, max_depth=12\u001b[0m\n",
      "\u001b[34m[16]#011train-rmse:0.338315#011validation-rmse:0.369192\u001b[0m\n",
      "\u001b[34m[11:31:43] src/tree/updater_prune.cc:74: tree pruning end, 1 roots, 72 extra nodes, 74 pruned nodes, max_depth=12\u001b[0m\n",
      "\u001b[34m[17]#011train-rmse:0.334535#011validation-rmse:0.366423\u001b[0m\n",
      "\u001b[34m[11:31:47] src/tree/updater_prune.cc:74: tree pruning end, 1 roots, 108 extra nodes, 64 pruned nodes, max_depth=12\u001b[0m\n",
      "\u001b[34m[18]#011train-rmse:0.330551#011validation-rmse:0.364139\u001b[0m\n",
      "\u001b[34m[11:31:50] src/tree/updater_prune.cc:74: tree pruning end, 1 roots, 52 extra nodes, 72 pruned nodes, max_depth=12\u001b[0m\n",
      "\u001b[34m[19]#011train-rmse:0.327875#011validation-rmse:0.362146\u001b[0m\n",
      "\u001b[34m[11:31:53] src/tree/updater_prune.cc:74: tree pruning end, 1 roots, 72 extra nodes, 56 pruned nodes, max_depth=12\u001b[0m\n",
      "\u001b[34m[20]#011train-rmse:0.325087#011validation-rmse:0.3604\u001b[0m\n",
      "\u001b[34m[11:31:57] src/tree/updater_prune.cc:74: tree pruning end, 1 roots, 52 extra nodes, 72 pruned nodes, max_depth=12\u001b[0m\n",
      "\u001b[34m[21]#011train-rmse:0.322774#011validation-rmse:0.358717\u001b[0m\n",
      "\u001b[34m[11:32:00] src/tree/updater_prune.cc:74: tree pruning end, 1 roots, 48 extra nodes, 52 pruned nodes, max_depth=12\u001b[0m\n",
      "\u001b[34m[22]#011train-rmse:0.320266#011validation-rmse:0.356802\u001b[0m\n",
      "\u001b[34m[11:32:03] src/tree/updater_prune.cc:74: tree pruning end, 1 roots, 70 extra nodes, 88 pruned nodes, max_depth=12\u001b[0m\n",
      "\u001b[34m[23]#011train-rmse:0.317664#011validation-rmse:0.355548\u001b[0m\n",
      "\u001b[34m[11:32:07] src/tree/updater_prune.cc:74: tree pruning end, 1 roots, 58 extra nodes, 56 pruned nodes, max_depth=12\u001b[0m\n",
      "\u001b[34m[24]#011train-rmse:0.315236#011validation-rmse:0.353857\u001b[0m\n",
      "\u001b[34m[11:32:10] src/tree/updater_prune.cc:74: tree pruning end, 1 roots, 36 extra nodes, 38 pruned nodes, max_depth=12\u001b[0m\n",
      "\u001b[34m[25]#011train-rmse:0.313345#011validation-rmse:0.352208\u001b[0m\n",
      "\u001b[34m[11:32:13] src/tree/updater_prune.cc:74: tree pruning end, 1 roots, 58 extra nodes, 76 pruned nodes, max_depth=12\u001b[0m\n",
      "\u001b[34m[26]#011train-rmse:0.311274#011validation-rmse:0.351015\u001b[0m\n",
      "\u001b[34m[11:32:17] src/tree/updater_prune.cc:74: tree pruning end, 1 roots, 48 extra nodes, 68 pruned nodes, max_depth=12\u001b[0m\n",
      "\u001b[34m[27]#011train-rmse:0.309343#011validation-rmse:0.349627\u001b[0m\n",
      "\u001b[34m[11:32:20] src/tree/updater_prune.cc:74: tree pruning end, 1 roots, 72 extra nodes, 50 pruned nodes, max_depth=12\u001b[0m\n",
      "\u001b[34m[28]#011train-rmse:0.306833#011validation-rmse:0.34846\u001b[0m\n",
      "\u001b[34m[11:32:23] src/tree/updater_prune.cc:74: tree pruning end, 1 roots, 76 extra nodes, 66 pruned nodes, max_depth=12\u001b[0m\n",
      "\u001b[34m[29]#011train-rmse:0.304093#011validation-rmse:0.347246\u001b[0m\n",
      "\u001b[34m[11:32:27] src/tree/updater_prune.cc:74: tree pruning end, 1 roots, 56 extra nodes, 58 pruned nodes, max_depth=12\u001b[0m\n",
      "\u001b[34m[30]#011train-rmse:0.30189#011validation-rmse:0.346293\u001b[0m\n",
      "\u001b[34m[11:32:30] src/tree/updater_prune.cc:74: tree pruning end, 1 roots, 56 extra nodes, 60 pruned nodes, max_depth=12\u001b[0m\n",
      "\u001b[34m[31]#011train-rmse:0.299793#011validation-rmse:0.345375\u001b[0m\n",
      "\u001b[34m[11:32:33] src/tree/updater_prune.cc:74: tree pruning end, 1 roots, 38 extra nodes, 52 pruned nodes, max_depth=12\u001b[0m\n",
      "\u001b[34m[32]#011train-rmse:0.29846#011validation-rmse:0.344443\u001b[0m\n",
      "\u001b[34m[11:32:37] src/tree/updater_prune.cc:74: tree pruning end, 1 roots, 40 extra nodes, 76 pruned nodes, max_depth=12\u001b[0m\n",
      "\u001b[34m[33]#011train-rmse:0.296954#011validation-rmse:0.343487\u001b[0m\n",
      "\u001b[34m[11:32:40] src/tree/updater_prune.cc:74: tree pruning end, 1 roots, 70 extra nodes, 74 pruned nodes, max_depth=12\u001b[0m\n",
      "\u001b[34m[34]#011train-rmse:0.294819#011validation-rmse:0.342375\u001b[0m\n",
      "\u001b[34m[11:32:43] src/tree/updater_prune.cc:74: tree pruning end, 1 roots, 70 extra nodes, 70 pruned nodes, max_depth=12\u001b[0m\n",
      "\u001b[34m[35]#011train-rmse:0.292545#011validation-rmse:0.341435\u001b[0m\n",
      "\u001b[34m[11:32:47] src/tree/updater_prune.cc:74: tree pruning end, 1 roots, 28 extra nodes, 40 pruned nodes, max_depth=12\u001b[0m\n",
      "\u001b[34m[36]#011train-rmse:0.291378#011validation-rmse:0.340406\u001b[0m\n",
      "\u001b[34m[11:32:50] src/tree/updater_prune.cc:74: tree pruning end, 1 roots, 32 extra nodes, 46 pruned nodes, max_depth=12\u001b[0m\n",
      "\u001b[34m[37]#011train-rmse:0.290216#011validation-rmse:0.339628\u001b[0m\n",
      "\u001b[34m[11:32:53] src/tree/updater_prune.cc:74: tree pruning end, 1 roots, 62 extra nodes, 56 pruned nodes, max_depth=12\u001b[0m\n",
      "\u001b[34m[38]#011train-rmse:0.288328#011validation-rmse:0.338484\u001b[0m\n",
      "\u001b[34m[11:32:57] src/tree/updater_prune.cc:74: tree pruning end, 1 roots, 52 extra nodes, 88 pruned nodes, max_depth=12\u001b[0m\n",
      "\u001b[34m[39]#011train-rmse:0.286803#011validation-rmse:0.33791\u001b[0m\n",
      "\u001b[34m[11:33:00] src/tree/updater_prune.cc:74: tree pruning end, 1 roots, 52 extra nodes, 46 pruned nodes, max_depth=12\u001b[0m\n",
      "\u001b[34m[40]#011train-rmse:0.285297#011validation-rmse:0.337077\u001b[0m\n",
      "\u001b[34m[11:33:03] src/tree/updater_prune.cc:74: tree pruning end, 1 roots, 26 extra nodes, 32 pruned nodes, max_depth=12\u001b[0m\n",
      "\u001b[34m[41]#011train-rmse:0.284291#011validation-rmse:0.336128\u001b[0m\n",
      "\u001b[34m[11:33:07] src/tree/updater_prune.cc:74: tree pruning end, 1 roots, 42 extra nodes, 62 pruned nodes, max_depth=12\u001b[0m\n",
      "\u001b[34m[42]#011train-rmse:0.283001#011validation-rmse:0.335302\u001b[0m\n",
      "\u001b[34m[11:33:10] src/tree/updater_prune.cc:74: tree pruning end, 1 roots, 46 extra nodes, 52 pruned nodes, max_depth=12\u001b[0m\n",
      "\u001b[34m[43]#011train-rmse:0.281746#011validation-rmse:0.334578\u001b[0m\n",
      "\u001b[34m[11:33:13] src/tree/updater_prune.cc:74: tree pruning end, 1 roots, 56 extra nodes, 38 pruned nodes, max_depth=12\u001b[0m\n",
      "\u001b[34m[44]#011train-rmse:0.280318#011validation-rmse:0.33426\u001b[0m\n",
      "\u001b[34m[11:33:17] src/tree/updater_prune.cc:74: tree pruning end, 1 roots, 32 extra nodes, 54 pruned nodes, max_depth=12\u001b[0m\n",
      "\u001b[34m[45]#011train-rmse:0.279299#011validation-rmse:0.334084\u001b[0m\n",
      "\u001b[34m[11:33:20] src/tree/updater_prune.cc:74: tree pruning end, 1 roots, 40 extra nodes, 50 pruned nodes, max_depth=12\u001b[0m\n",
      "\u001b[34m[46]#011train-rmse:0.277988#011validation-rmse:0.33344\u001b[0m\n",
      "\u001b[34m[11:33:23] src/tree/updater_prune.cc:74: tree pruning end, 1 roots, 40 extra nodes, 44 pruned nodes, max_depth=12\u001b[0m\n",
      "\u001b[34m[47]#011train-rmse:0.276877#011validation-rmse:0.332737\u001b[0m\n",
      "\u001b[34m[11:33:27] src/tree/updater_prune.cc:74: tree pruning end, 1 roots, 40 extra nodes, 62 pruned nodes, max_depth=12\u001b[0m\n",
      "\u001b[34m[48]#011train-rmse:0.275637#011validation-rmse:0.33239\u001b[0m\n",
      "\u001b[34m[11:33:30] src/tree/updater_prune.cc:74: tree pruning end, 1 roots, 54 extra nodes, 60 pruned nodes, max_depth=12\u001b[0m\n",
      "\u001b[34m[49]#011train-rmse:0.274246#011validation-rmse:0.33144\u001b[0m\n",
      "\u001b[34m[11:33:33] src/tree/updater_prune.cc:74: tree pruning end, 1 roots, 30 extra nodes, 58 pruned nodes, max_depth=12\u001b[0m\n",
      "\u001b[34m[50]#011train-rmse:0.273212#011validation-rmse:0.330605\u001b[0m\n",
      "\u001b[34m[11:33:36] src/tree/updater_prune.cc:74: tree pruning end, 1 roots, 46 extra nodes, 34 pruned nodes, max_depth=12\u001b[0m\n",
      "\u001b[34m[51]#011train-rmse:0.271827#011validation-rmse:0.330122\u001b[0m\n",
      "\u001b[34m[11:33:40] src/tree/updater_prune.cc:74: tree pruning end, 1 roots, 34 extra nodes, 48 pruned nodes, max_depth=12\u001b[0m\n",
      "\u001b[34m[52]#011train-rmse:0.270832#011validation-rmse:0.329674\u001b[0m\n",
      "\u001b[34m[11:33:43] src/tree/updater_prune.cc:74: tree pruning end, 1 roots, 26 extra nodes, 26 pruned nodes, max_depth=12\u001b[0m\n",
      "\u001b[34m[53]#011train-rmse:0.270082#011validation-rmse:0.329028\u001b[0m\n",
      "\u001b[34m[11:33:46] src/tree/updater_prune.cc:74: tree pruning end, 1 roots, 34 extra nodes, 50 pruned nodes, max_depth=12\u001b[0m\n",
      "\u001b[34m[54]#011train-rmse:0.268991#011validation-rmse:0.328557\u001b[0m\n",
      "\u001b[34m[11:33:50] src/tree/updater_prune.cc:74: tree pruning end, 1 roots, 34 extra nodes, 76 pruned nodes, max_depth=12\u001b[0m\n",
      "\u001b[34m[55]#011train-rmse:0.268004#011validation-rmse:0.328243\u001b[0m\n",
      "\u001b[34m[11:33:53] src/tree/updater_prune.cc:74: tree pruning end, 1 roots, 26 extra nodes, 36 pruned nodes, max_depth=12\u001b[0m\n",
      "\u001b[34m[56]#011train-rmse:0.267251#011validation-rmse:0.327766\u001b[0m\n",
      "\u001b[34m[11:33:56] src/tree/updater_prune.cc:74: tree pruning end, 1 roots, 34 extra nodes, 30 pruned nodes, max_depth=12\u001b[0m\n",
      "\u001b[34m[57]#011train-rmse:0.266359#011validation-rmse:0.327251\u001b[0m\n",
      "\u001b[34m[11:34:00] src/tree/updater_prune.cc:74: tree pruning end, 1 roots, 42 extra nodes, 36 pruned nodes, max_depth=12\u001b[0m\n",
      "\u001b[34m[58]#011train-rmse:0.26515#011validation-rmse:0.326859\u001b[0m\n",
      "\u001b[34m[11:34:03] src/tree/updater_prune.cc:74: tree pruning end, 1 roots, 38 extra nodes, 38 pruned nodes, max_depth=12\u001b[0m\n",
      "\u001b[34m[59]#011train-rmse:0.264139#011validation-rmse:0.326504\u001b[0m\n",
      "\u001b[34m[11:34:06] src/tree/updater_prune.cc:74: tree pruning end, 1 roots, 32 extra nodes, 44 pruned nodes, max_depth=12\u001b[0m\n",
      "\u001b[34m[60]#011train-rmse:0.263276#011validation-rmse:0.326083\u001b[0m\n",
      "\u001b[34m[11:34:10] src/tree/updater_prune.cc:74: tree pruning end, 1 roots, 40 extra nodes, 46 pruned nodes, max_depth=12\u001b[0m\n",
      "\u001b[34m[61]#011train-rmse:0.262245#011validation-rmse:0.325559\u001b[0m\n",
      "\u001b[34m[11:34:13] src/tree/updater_prune.cc:74: tree pruning end, 1 roots, 34 extra nodes, 42 pruned nodes, max_depth=12\u001b[0m\n",
      "\u001b[34m[62]#011train-rmse:0.261379#011validation-rmse:0.325079\u001b[0m\n",
      "\u001b[34m[11:34:16] src/tree/updater_prune.cc:74: tree pruning end, 1 roots, 52 extra nodes, 56 pruned nodes, max_depth=12\u001b[0m\n",
      "\u001b[34m[63]#011train-rmse:0.260247#011validation-rmse:0.325087\u001b[0m\n",
      "\u001b[34m[11:34:19] src/tree/updater_prune.cc:74: tree pruning end, 1 roots, 28 extra nodes, 34 pruned nodes, max_depth=12\u001b[0m\n",
      "\u001b[34m[64]#011train-rmse:0.259589#011validation-rmse:0.324697\u001b[0m\n",
      "\u001b[34m[11:34:23] src/tree/updater_prune.cc:74: tree pruning end, 1 roots, 46 extra nodes, 72 pruned nodes, max_depth=12\u001b[0m\n",
      "\u001b[34m[65]#011train-rmse:0.258322#011validation-rmse:0.324418\u001b[0m\n",
      "\u001b[34m[11:34:26] src/tree/updater_prune.cc:74: tree pruning end, 1 roots, 24 extra nodes, 44 pruned nodes, max_depth=12\u001b[0m\n",
      "\u001b[34m[66]#011train-rmse:0.257871#011validation-rmse:0.324274\u001b[0m\n",
      "\u001b[34m[11:34:29] src/tree/updater_prune.cc:74: tree pruning end, 1 roots, 26 extra nodes, 24 pruned nodes, max_depth=12\u001b[0m\n",
      "\u001b[34m[67]#011train-rmse:0.257122#011validation-rmse:0.323906\u001b[0m\n",
      "\u001b[34m[11:34:33] src/tree/updater_prune.cc:74: tree pruning end, 1 roots, 54 extra nodes, 44 pruned nodes, max_depth=12\u001b[0m\n",
      "\u001b[34m[68]#011train-rmse:0.255805#011validation-rmse:0.323529\u001b[0m\n",
      "\u001b[34m[11:34:36] src/tree/updater_prune.cc:74: tree pruning end, 1 roots, 30 extra nodes, 34 pruned nodes, max_depth=12\u001b[0m\n",
      "\u001b[34m[69]#011train-rmse:0.255041#011validation-rmse:0.32308\u001b[0m\n",
      "\u001b[34m[11:34:39] src/tree/updater_prune.cc:74: tree pruning end, 1 roots, 44 extra nodes, 58 pruned nodes, max_depth=12\u001b[0m\n",
      "\u001b[34m[70]#011train-rmse:0.254115#011validation-rmse:0.322808\u001b[0m\n",
      "\u001b[34m[11:34:43] src/tree/updater_prune.cc:74: tree pruning end, 1 roots, 56 extra nodes, 82 pruned nodes, max_depth=12\u001b[0m\n",
      "\u001b[34m[71]#011train-rmse:0.252915#011validation-rmse:0.322424\u001b[0m\n",
      "\u001b[34m[11:34:46] src/tree/updater_prune.cc:74: tree pruning end, 1 roots, 30 extra nodes, 44 pruned nodes, max_depth=12\u001b[0m\n",
      "\u001b[34m[72]#011train-rmse:0.252276#011validation-rmse:0.322039\u001b[0m\n",
      "\u001b[34m[11:34:49] src/tree/updater_prune.cc:74: tree pruning end, 1 roots, 38 extra nodes, 34 pruned nodes, max_depth=12\u001b[0m\n",
      "\u001b[34m[73]#011train-rmse:0.251333#011validation-rmse:0.321655\u001b[0m\n",
      "\u001b[34m[11:34:53] src/tree/updater_prune.cc:74: tree pruning end, 1 roots, 30 extra nodes, 50 pruned nodes, max_depth=12\u001b[0m\n",
      "\u001b[34m[74]#011train-rmse:0.250629#011validation-rmse:0.321346\u001b[0m\n",
      "\u001b[34m[11:34:56] src/tree/updater_prune.cc:74: tree pruning end, 1 roots, 30 extra nodes, 68 pruned nodes, max_depth=12\u001b[0m\n",
      "\u001b[34m[75]#011train-rmse:0.249994#011validation-rmse:0.320927\u001b[0m\n",
      "\u001b[34m[11:34:59] src/tree/updater_prune.cc:74: tree pruning end, 1 roots, 28 extra nodes, 34 pruned nodes, max_depth=12\u001b[0m\n",
      "\u001b[34m[76]#011train-rmse:0.249432#011validation-rmse:0.320635\u001b[0m\n",
      "\u001b[34m[11:35:02] src/tree/updater_prune.cc:74: tree pruning end, 1 roots, 42 extra nodes, 42 pruned nodes, max_depth=12\u001b[0m\n",
      "\u001b[34m[77]#011train-rmse:0.248386#011validation-rmse:0.320237\u001b[0m\n",
      "\u001b[34m[11:35:06] src/tree/updater_prune.cc:74: tree pruning end, 1 roots, 28 extra nodes, 48 pruned nodes, max_depth=12\u001b[0m\n",
      "\u001b[34m[78]#011train-rmse:0.247774#011validation-rmse:0.319953\u001b[0m\n",
      "\u001b[34m[11:35:09] src/tree/updater_prune.cc:74: tree pruning end, 1 roots, 28 extra nodes, 58 pruned nodes, max_depth=12\u001b[0m\n",
      "\u001b[34m[79]#011train-rmse:0.247154#011validation-rmse:0.31968\u001b[0m\n",
      "\u001b[34m[11:35:12] src/tree/updater_prune.cc:74: tree pruning end, 1 roots, 28 extra nodes, 28 pruned nodes, max_depth=12\u001b[0m\n",
      "\u001b[34m[80]#011train-rmse:0.246522#011validation-rmse:0.319641\u001b[0m\n",
      "\u001b[34m[11:35:16] src/tree/updater_prune.cc:74: tree pruning end, 1 roots, 28 extra nodes, 62 pruned nodes, max_depth=12\u001b[0m\n",
      "\u001b[34m[81]#011train-rmse:0.245958#011validation-rmse:0.319446\u001b[0m\n",
      "\u001b[34m[11:35:19] src/tree/updater_prune.cc:74: tree pruning end, 1 roots, 24 extra nodes, 22 pruned nodes, max_depth=12\u001b[0m\n",
      "\u001b[34m[82]#011train-rmse:0.245413#011validation-rmse:0.319221\u001b[0m\n",
      "\u001b[34m[11:35:22] src/tree/updater_prune.cc:74: tree pruning end, 1 roots, 26 extra nodes, 54 pruned nodes, max_depth=12\u001b[0m\n",
      "\u001b[34m[83]#011train-rmse:0.24484#011validation-rmse:0.319168\u001b[0m\n",
      "\u001b[34m[11:35:26] src/tree/updater_prune.cc:74: tree pruning end, 1 roots, 40 extra nodes, 30 pruned nodes, max_depth=12\u001b[0m\n",
      "\u001b[34m[84]#011train-rmse:0.244007#011validation-rmse:0.319032\u001b[0m\n",
      "\u001b[34m[11:35:29] src/tree/updater_prune.cc:74: tree pruning end, 1 roots, 34 extra nodes, 44 pruned nodes, max_depth=12\u001b[0m\n",
      "\u001b[34m[85]#011train-rmse:0.243124#011validation-rmse:0.318665\u001b[0m\n",
      "\u001b[34m[11:35:32] src/tree/updater_prune.cc:74: tree pruning end, 1 roots, 40 extra nodes, 62 pruned nodes, max_depth=12\u001b[0m\n",
      "\u001b[34m[86]#011train-rmse:0.242221#011validation-rmse:0.318323\u001b[0m\n",
      "\u001b[34m[11:35:35] src/tree/updater_prune.cc:74: tree pruning end, 1 roots, 30 extra nodes, 30 pruned nodes, max_depth=12\u001b[0m\n",
      "\u001b[34m[87]#011train-rmse:0.241633#011validation-rmse:0.318114\u001b[0m\n",
      "\u001b[34m[11:35:39] src/tree/updater_prune.cc:74: tree pruning end, 1 roots, 28 extra nodes, 30 pruned nodes, max_depth=12\u001b[0m\n",
      "\u001b[34m[88]#011train-rmse:0.24103#011validation-rmse:0.31792\u001b[0m\n",
      "\u001b[34m[11:35:42] src/tree/updater_prune.cc:74: tree pruning end, 1 roots, 34 extra nodes, 56 pruned nodes, max_depth=12\u001b[0m\n",
      "\u001b[34m[89]#011train-rmse:0.240248#011validation-rmse:0.31745\u001b[0m\n",
      "\u001b[34m[11:35:45] src/tree/updater_prune.cc:74: tree pruning end, 1 roots, 24 extra nodes, 20 pruned nodes, max_depth=12\u001b[0m\n",
      "\u001b[34m[90]#011train-rmse:0.239793#011validation-rmse:0.317225\u001b[0m\n",
      "\u001b[34m[11:35:49] src/tree/updater_prune.cc:74: tree pruning end, 1 roots, 24 extra nodes, 22 pruned nodes, max_depth=12\u001b[0m\n",
      "\u001b[34m[91]#011train-rmse:0.239326#011validation-rmse:0.316796\u001b[0m\n",
      "\u001b[34m[11:35:52] src/tree/updater_prune.cc:74: tree pruning end, 1 roots, 32 extra nodes, 40 pruned nodes, max_depth=12\u001b[0m\n",
      "\u001b[34m[92]#011train-rmse:0.238822#011validation-rmse:0.316517\u001b[0m\n",
      "\u001b[34m[11:35:55] src/tree/updater_prune.cc:74: tree pruning end, 1 roots, 44 extra nodes, 58 pruned nodes, max_depth=12\u001b[0m\n",
      "\u001b[34m[93]#011train-rmse:0.237853#011validation-rmse:0.316193\u001b[0m\n",
      "\u001b[34m[11:35:59] src/tree/updater_prune.cc:74: tree pruning end, 1 roots, 38 extra nodes, 44 pruned nodes, max_depth=12\u001b[0m\n",
      "\u001b[34m[94]#011train-rmse:0.237193#011validation-rmse:0.316107\u001b[0m\n",
      "\u001b[34m[11:36:02] src/tree/updater_prune.cc:74: tree pruning end, 1 roots, 28 extra nodes, 30 pruned nodes, max_depth=12\u001b[0m\n",
      "\u001b[34m[95]#011train-rmse:0.236656#011validation-rmse:0.315686\u001b[0m\n",
      "\u001b[34m[11:36:05] src/tree/updater_prune.cc:74: tree pruning end, 1 roots, 30 extra nodes, 24 pruned nodes, max_depth=12\u001b[0m\n",
      "\u001b[34m[96]#011train-rmse:0.236139#011validation-rmse:0.315527\u001b[0m\n",
      "\u001b[34m[11:36:09] src/tree/updater_prune.cc:74: tree pruning end, 1 roots, 34 extra nodes, 40 pruned nodes, max_depth=12\u001b[0m\n",
      "\u001b[34m[97]#011train-rmse:0.23548#011validation-rmse:0.315215\u001b[0m\n",
      "\u001b[34m[11:36:12] src/tree/updater_prune.cc:74: tree pruning end, 1 roots, 28 extra nodes, 32 pruned nodes, max_depth=12\u001b[0m\n",
      "\u001b[34m[98]#011train-rmse:0.235025#011validation-rmse:0.315034\u001b[0m\n",
      "\u001b[34m[11:36:15] src/tree/updater_prune.cc:74: tree pruning end, 1 roots, 34 extra nodes, 80 pruned nodes, max_depth=12\u001b[0m\n",
      "\u001b[34m[99]#011train-rmse:0.234206#011validation-rmse:0.314802\u001b[0m\n",
      "\u001b[34m[11:36:19] src/tree/updater_prune.cc:74: tree pruning end, 1 roots, 26 extra nodes, 30 pruned nodes, max_depth=12\u001b[0m\n",
      "\u001b[34m[100]#011train-rmse:0.23372#011validation-rmse:0.314643\u001b[0m\n",
      "\u001b[34m[11:36:22] src/tree/updater_prune.cc:74: tree pruning end, 1 roots, 26 extra nodes, 32 pruned nodes, max_depth=12\u001b[0m\n",
      "\u001b[34m[101]#011train-rmse:0.233271#011validation-rmse:0.314507\u001b[0m\n",
      "\u001b[34m[11:36:25] src/tree/updater_prune.cc:74: tree pruning end, 1 roots, 38 extra nodes, 48 pruned nodes, max_depth=12\u001b[0m\n",
      "\u001b[34m[102]#011train-rmse:0.23255#011validation-rmse:0.314528\u001b[0m\n",
      "\u001b[34m[11:36:28] src/tree/updater_prune.cc:74: tree pruning end, 1 roots, 26 extra nodes, 42 pruned nodes, max_depth=12\u001b[0m\n",
      "\u001b[34m[103]#011train-rmse:0.232118#011validation-rmse:0.314359\u001b[0m\n",
      "\u001b[34m[11:36:32] src/tree/updater_prune.cc:74: tree pruning end, 1 roots, 22 extra nodes, 38 pruned nodes, max_depth=11\u001b[0m\n",
      "\u001b[34m[104]#011train-rmse:0.231783#011validation-rmse:0.314185\u001b[0m\n",
      "\u001b[34m[11:36:35] src/tree/updater_prune.cc:74: tree pruning end, 1 roots, 36 extra nodes, 66 pruned nodes, max_depth=12\u001b[0m\n",
      "\u001b[34m[105]#011train-rmse:0.23106#011validation-rmse:0.313984\u001b[0m\n",
      "\u001b[34m[11:36:38] src/tree/updater_prune.cc:74: tree pruning end, 1 roots, 28 extra nodes, 38 pruned nodes, max_depth=11\u001b[0m\n",
      "\u001b[34m[106]#011train-rmse:0.230708#011validation-rmse:0.313638\u001b[0m\n",
      "\u001b[34m[11:36:42] src/tree/updater_prune.cc:74: tree pruning end, 1 roots, 24 extra nodes, 30 pruned nodes, max_depth=12\u001b[0m\n",
      "\u001b[34m[107]#011train-rmse:0.23035#011validation-rmse:0.313429\u001b[0m\n",
      "\u001b[34m[11:36:45] src/tree/updater_prune.cc:74: tree pruning end, 1 roots, 24 extra nodes, 16 pruned nodes, max_depth=12\u001b[0m\n",
      "\u001b[34m[108]#011train-rmse:0.229938#011validation-rmse:0.313318\u001b[0m\n",
      "\u001b[34m[11:36:48] src/tree/updater_prune.cc:74: tree pruning end, 1 roots, 24 extra nodes, 28 pruned nodes, max_depth=12\u001b[0m\n",
      "\u001b[34m[109]#011train-rmse:0.229515#011validation-rmse:0.312886\u001b[0m\n",
      "\u001b[34m[11:36:52] src/tree/updater_prune.cc:74: tree pruning end, 1 roots, 24 extra nodes, 18 pruned nodes, max_depth=12\u001b[0m\n",
      "\u001b[34m[110]#011train-rmse:0.229158#011validation-rmse:0.312666\u001b[0m\n",
      "\u001b[34m[11:36:55] src/tree/updater_prune.cc:74: tree pruning end, 1 roots, 44 extra nodes, 40 pruned nodes, max_depth=12\u001b[0m\n",
      "\u001b[34m[111]#011train-rmse:0.228241#011validation-rmse:0.312409\u001b[0m\n",
      "\u001b[34m[11:36:58] src/tree/updater_prune.cc:74: tree pruning end, 1 roots, 28 extra nodes, 36 pruned nodes, max_depth=12\u001b[0m\n",
      "\u001b[34m[112]#011train-rmse:0.227688#011validation-rmse:0.312329\u001b[0m\n",
      "\u001b[34m[11:37:02] src/tree/updater_prune.cc:74: tree pruning end, 1 roots, 28 extra nodes, 66 pruned nodes, max_depth=12\u001b[0m\n",
      "\u001b[34m[113]#011train-rmse:0.227104#011validation-rmse:0.312192\u001b[0m\n",
      "\u001b[34m[11:37:05] src/tree/updater_prune.cc:74: tree pruning end, 1 roots, 26 extra nodes, 30 pruned nodes, max_depth=10\u001b[0m\n",
      "\u001b[34m[114]#011train-rmse:0.226601#011validation-rmse:0.3122\u001b[0m\n",
      "\u001b[34m[11:37:08] src/tree/updater_prune.cc:74: tree pruning end, 1 roots, 40 extra nodes, 60 pruned nodes, max_depth=12\u001b[0m\n",
      "\u001b[34m[115]#011train-rmse:0.225763#011validation-rmse:0.312123\u001b[0m\n",
      "\u001b[34m[11:37:12] src/tree/updater_prune.cc:74: tree pruning end, 1 roots, 24 extra nodes, 42 pruned nodes, max_depth=11\u001b[0m\n",
      "\u001b[34m[116]#011train-rmse:0.22544#011validation-rmse:0.31176\u001b[0m\n",
      "\u001b[34m[11:37:15] src/tree/updater_prune.cc:74: tree pruning end, 1 roots, 26 extra nodes, 58 pruned nodes, max_depth=12\u001b[0m\n",
      "\u001b[34m[117]#011train-rmse:0.224942#011validation-rmse:0.311697\u001b[0m\n",
      "\u001b[34m[11:37:18] src/tree/updater_prune.cc:74: tree pruning end, 1 roots, 22 extra nodes, 20 pruned nodes, max_depth=11\u001b[0m\n",
      "\u001b[34m[118]#011train-rmse:0.224631#011validation-rmse:0.311559\u001b[0m\n",
      "\u001b[34m[11:37:21] src/tree/updater_prune.cc:74: tree pruning end, 1 roots, 24 extra nodes, 22 pruned nodes, max_depth=12\u001b[0m\n",
      "\u001b[34m[119]#011train-rmse:0.224331#011validation-rmse:0.311332\u001b[0m\n",
      "\u001b[34m[11:37:25] src/tree/updater_prune.cc:74: tree pruning end, 1 roots, 24 extra nodes, 26 pruned nodes, max_depth=11\u001b[0m\n",
      "\u001b[34m[120]#011train-rmse:0.223948#011validation-rmse:0.31122\u001b[0m\n",
      "\u001b[34m[11:37:28] src/tree/updater_prune.cc:74: tree pruning end, 1 roots, 34 extra nodes, 34 pruned nodes, max_depth=12\u001b[0m\n",
      "\u001b[34m[121]#011train-rmse:0.223378#011validation-rmse:0.311064\u001b[0m\n",
      "\u001b[34m[11:37:31] src/tree/updater_prune.cc:74: tree pruning end, 1 roots, 48 extra nodes, 54 pruned nodes, max_depth=12\u001b[0m\n",
      "\u001b[34m[122]#011train-rmse:0.222461#011validation-rmse:0.311308\u001b[0m\n",
      "\u001b[34m[11:37:35] src/tree/updater_prune.cc:74: tree pruning end, 1 roots, 24 extra nodes, 38 pruned nodes, max_depth=11\u001b[0m\n",
      "\u001b[34m[123]#011train-rmse:0.222116#011validation-rmse:0.311307\u001b[0m\n",
      "\u001b[34m[11:37:38] src/tree/updater_prune.cc:74: tree pruning end, 1 roots, 24 extra nodes, 32 pruned nodes, max_depth=12\u001b[0m\n",
      "\u001b[34m[124]#011train-rmse:0.221768#011validation-rmse:0.311208\u001b[0m\n",
      "\u001b[34m[11:37:41] src/tree/updater_prune.cc:74: tree pruning end, 1 roots, 24 extra nodes, 28 pruned nodes, max_depth=11\u001b[0m\n",
      "\u001b[34m[125]#011train-rmse:0.221459#011validation-rmse:0.311257\u001b[0m\n",
      "\u001b[34m[11:37:45] src/tree/updater_prune.cc:74: tree pruning end, 1 roots, 34 extra nodes, 42 pruned nodes, max_depth=12\u001b[0m\n",
      "\u001b[34m[126]#011train-rmse:0.220732#011validation-rmse:0.311156\u001b[0m\n",
      "\u001b[34m[11:37:48] src/tree/updater_prune.cc:74: tree pruning end, 1 roots, 30 extra nodes, 38 pruned nodes, max_depth=11\u001b[0m\n",
      "\u001b[34m[127]#011train-rmse:0.220183#011validation-rmse:0.311173\u001b[0m\n",
      "\u001b[34m[11:37:51] src/tree/updater_prune.cc:74: tree pruning end, 1 roots, 24 extra nodes, 52 pruned nodes, max_depth=12\u001b[0m\n",
      "\u001b[34m[128]#011train-rmse:0.219824#011validation-rmse:0.311084\u001b[0m\n",
      "\u001b[34m[11:37:55] src/tree/updater_prune.cc:74: tree pruning end, 1 roots, 30 extra nodes, 34 pruned nodes, max_depth=12\u001b[0m\n",
      "\u001b[34m[129]#011train-rmse:0.219296#011validation-rmse:0.310995\u001b[0m\n",
      "\u001b[34m[11:37:58] src/tree/updater_prune.cc:74: tree pruning end, 1 roots, 32 extra nodes, 70 pruned nodes, max_depth=12\u001b[0m\n",
      "\u001b[34m[130]#011train-rmse:0.218559#011validation-rmse:0.311003\u001b[0m\n",
      "\u001b[34m[11:38:01] src/tree/updater_prune.cc:74: tree pruning end, 1 roots, 22 extra nodes, 30 pruned nodes, max_depth=10\u001b[0m\n",
      "\u001b[34m[131]#011train-rmse:0.218182#011validation-rmse:0.31093\u001b[0m\n",
      "\u001b[34m[11:38:05] src/tree/updater_prune.cc:74: tree pruning end, 1 roots, 24 extra nodes, 22 pruned nodes, max_depth=12\u001b[0m\n",
      "\u001b[34m[132]#011train-rmse:0.21782#011validation-rmse:0.310819\u001b[0m\n",
      "\u001b[34m[11:38:08] src/tree/updater_prune.cc:74: tree pruning end, 1 roots, 18 extra nodes, 26 pruned nodes, max_depth=9\u001b[0m\n",
      "\u001b[34m[133]#011train-rmse:0.217521#011validation-rmse:0.310784\u001b[0m\n",
      "\u001b[34m[11:38:11] src/tree/updater_prune.cc:74: tree pruning end, 1 roots, 24 extra nodes, 38 pruned nodes, max_depth=12\u001b[0m\n",
      "\u001b[34m[134]#011train-rmse:0.21707#011validation-rmse:0.310645\u001b[0m\n",
      "\u001b[34m[11:38:15] src/tree/updater_prune.cc:74: tree pruning end, 1 roots, 44 extra nodes, 54 pruned nodes, max_depth=12\u001b[0m\n",
      "\u001b[34m[135]#011train-rmse:0.216359#011validation-rmse:0.310556\u001b[0m\n",
      "\u001b[34m[11:38:18] src/tree/updater_prune.cc:74: tree pruning end, 1 roots, 26 extra nodes, 80 pruned nodes, max_depth=11\u001b[0m\n",
      "\u001b[34m[136]#011train-rmse:0.216006#011validation-rmse:0.31056\u001b[0m\n",
      "\u001b[34m[11:38:21] src/tree/updater_prune.cc:74: tree pruning end, 1 roots, 24 extra nodes, 30 pruned nodes, max_depth=12\u001b[0m\n",
      "\u001b[34m[137]#011train-rmse:0.215687#011validation-rmse:0.310398\u001b[0m\n",
      "\u001b[34m[11:38:25] src/tree/updater_prune.cc:74: tree pruning end, 1 roots, 26 extra nodes, 44 pruned nodes, max_depth=10\u001b[0m\n",
      "\u001b[34m[138]#011train-rmse:0.215287#011validation-rmse:0.310316\u001b[0m\n",
      "\u001b[34m[11:38:28] src/tree/updater_prune.cc:74: tree pruning end, 1 roots, 26 extra nodes, 46 pruned nodes, max_depth=12\u001b[0m\n",
      "\u001b[34m[139]#011train-rmse:0.214958#011validation-rmse:0.310128\u001b[0m\n",
      "\u001b[34m[11:38:31] src/tree/updater_prune.cc:74: tree pruning end, 1 roots, 0 extra nodes, 42 pruned nodes, max_depth=0\u001b[0m\n",
      "\u001b[34m[140]#011train-rmse:0.214948#011validation-rmse:0.310121\u001b[0m\n",
      "\u001b[34m[11:38:35] src/tree/updater_prune.cc:74: tree pruning end, 1 roots, 36 extra nodes, 34 pruned nodes, max_depth=12\u001b[0m\n",
      "\u001b[34m[141]#011train-rmse:0.214401#011validation-rmse:0.310019\u001b[0m\n",
      "\u001b[34m[11:38:38] src/tree/updater_prune.cc:74: tree pruning end, 1 roots, 16 extra nodes, 46 pruned nodes, max_depth=8\u001b[0m\n",
      "\u001b[34m[142]#011train-rmse:0.214168#011validation-rmse:0.309827\u001b[0m\n",
      "\u001b[34m[11:38:41] src/tree/updater_prune.cc:74: tree pruning end, 1 roots, 26 extra nodes, 60 pruned nodes, max_depth=12\u001b[0m\n",
      "\u001b[34m[143]#011train-rmse:0.213787#011validation-rmse:0.309836\u001b[0m\n",
      "\u001b[34m[11:38:45] src/tree/updater_prune.cc:74: tree pruning end, 1 roots, 24 extra nodes, 36 pruned nodes, max_depth=12\u001b[0m\n",
      "\u001b[34m[144]#011train-rmse:0.21346#011validation-rmse:0.309786\u001b[0m\n"
     ]
    },
    {
     "name": "stdout",
     "output_type": "stream",
     "text": [
      "\u001b[34m[11:38:48] src/tree/updater_prune.cc:74: tree pruning end, 1 roots, 28 extra nodes, 16 pruned nodes, max_depth=12\u001b[0m\n",
      "\u001b[34m[145]#011train-rmse:0.213096#011validation-rmse:0.3097\u001b[0m\n",
      "\u001b[34m[11:38:51] src/tree/updater_prune.cc:74: tree pruning end, 1 roots, 18 extra nodes, 44 pruned nodes, max_depth=9\u001b[0m\n",
      "\u001b[34m[146]#011train-rmse:0.212876#011validation-rmse:0.309694\u001b[0m\n",
      "\u001b[34m[11:38:55] src/tree/updater_prune.cc:74: tree pruning end, 1 roots, 22 extra nodes, 54 pruned nodes, max_depth=8\u001b[0m\n",
      "\u001b[34m[147]#011train-rmse:0.212514#011validation-rmse:0.309533\u001b[0m\n",
      "\u001b[34m[11:38:58] src/tree/updater_prune.cc:74: tree pruning end, 1 roots, 20 extra nodes, 80 pruned nodes, max_depth=9\u001b[0m\n",
      "\u001b[34m[148]#011train-rmse:0.212252#011validation-rmse:0.309509\u001b[0m\n",
      "\u001b[34m[11:39:01] src/tree/updater_prune.cc:74: tree pruning end, 1 roots, 28 extra nodes, 54 pruned nodes, max_depth=12\u001b[0m\n",
      "\u001b[34m[149]#011train-rmse:0.211736#011validation-rmse:0.309401\u001b[0m\n",
      "\u001b[34m[11:39:05] src/tree/updater_prune.cc:74: tree pruning end, 1 roots, 0 extra nodes, 54 pruned nodes, max_depth=0\u001b[0m\n",
      "\u001b[34m[150]#011train-rmse:0.211737#011validation-rmse:0.309402\u001b[0m\n",
      "\u001b[34m[11:39:08] src/tree/updater_prune.cc:74: tree pruning end, 1 roots, 8 extra nodes, 42 pruned nodes, max_depth=4\u001b[0m\n",
      "\u001b[34m[151]#011train-rmse:0.211615#011validation-rmse:0.309445\u001b[0m\n",
      "\u001b[34m[11:39:11] src/tree/updater_prune.cc:74: tree pruning end, 1 roots, 24 extra nodes, 40 pruned nodes, max_depth=11\u001b[0m\n",
      "\u001b[34m[152]#011train-rmse:0.211215#011validation-rmse:0.309382\u001b[0m\n",
      "\u001b[34m[11:39:15] src/tree/updater_prune.cc:74: tree pruning end, 1 roots, 4 extra nodes, 44 pruned nodes, max_depth=2\u001b[0m\n",
      "\u001b[34m[153]#011train-rmse:0.211165#011validation-rmse:0.309406\u001b[0m\n",
      "\u001b[34m[11:39:18] src/tree/updater_prune.cc:74: tree pruning end, 1 roots, 8 extra nodes, 40 pruned nodes, max_depth=4\u001b[0m\n",
      "\u001b[34m[154]#011train-rmse:0.211071#011validation-rmse:0.309428\u001b[0m\n",
      "\u001b[34m[11:39:21] src/tree/updater_prune.cc:74: tree pruning end, 1 roots, 20 extra nodes, 46 pruned nodes, max_depth=9\u001b[0m\n",
      "\u001b[34m[155]#011train-rmse:0.210767#011validation-rmse:0.309376\u001b[0m\n",
      "\u001b[34m[11:39:25] src/tree/updater_prune.cc:74: tree pruning end, 1 roots, 2 extra nodes, 54 pruned nodes, max_depth=1\u001b[0m\n",
      "\u001b[34m[156]#011train-rmse:0.210754#011validation-rmse:0.309362\u001b[0m\n",
      "\u001b[34m[11:39:28] src/tree/updater_prune.cc:74: tree pruning end, 1 roots, 4 extra nodes, 44 pruned nodes, max_depth=2\u001b[0m\n",
      "\u001b[34m[157]#011train-rmse:0.210693#011validation-rmse:0.309394\u001b[0m\n",
      "\u001b[34m[11:39:31] src/tree/updater_prune.cc:74: tree pruning end, 1 roots, 24 extra nodes, 26 pruned nodes, max_depth=12\u001b[0m\n",
      "\u001b[34m[158]#011train-rmse:0.210326#011validation-rmse:0.309412\u001b[0m\n",
      "\u001b[34m[11:39:35] src/tree/updater_prune.cc:74: tree pruning end, 1 roots, 20 extra nodes, 72 pruned nodes, max_depth=8\u001b[0m\n",
      "\u001b[34m[159]#011train-rmse:0.209987#011validation-rmse:0.30934\u001b[0m\n",
      "\u001b[34m[11:39:38] src/tree/updater_prune.cc:74: tree pruning end, 1 roots, 2 extra nodes, 32 pruned nodes, max_depth=1\u001b[0m\n",
      "\u001b[34m[160]#011train-rmse:0.209981#011validation-rmse:0.309354\u001b[0m\n",
      "\u001b[34m[11:39:41] src/tree/updater_prune.cc:74: tree pruning end, 1 roots, 16 extra nodes, 62 pruned nodes, max_depth=8\u001b[0m\n",
      "\u001b[34m[161]#011train-rmse:0.20982#011validation-rmse:0.309301\u001b[0m\n",
      "\u001b[34m[11:39:45] src/tree/updater_prune.cc:74: tree pruning end, 1 roots, 24 extra nodes, 62 pruned nodes, max_depth=8\u001b[0m\n",
      "\u001b[34m[162]#011train-rmse:0.209365#011validation-rmse:0.309315\u001b[0m\n",
      "\u001b[34m[11:39:48] src/tree/updater_prune.cc:74: tree pruning end, 1 roots, 2 extra nodes, 54 pruned nodes, max_depth=1\u001b[0m\n",
      "\u001b[34m[163]#011train-rmse:0.20934#011validation-rmse:0.309292\u001b[0m\n",
      "\u001b[34m[11:39:51] src/tree/updater_prune.cc:74: tree pruning end, 1 roots, 16 extra nodes, 66 pruned nodes, max_depth=8\u001b[0m\n",
      "\u001b[34m[164]#011train-rmse:0.20918#011validation-rmse:0.309199\u001b[0m\n",
      "\u001b[34m[11:39:54] src/tree/updater_prune.cc:74: tree pruning end, 1 roots, 0 extra nodes, 66 pruned nodes, max_depth=0\u001b[0m\n",
      "\u001b[34m[165]#011train-rmse:0.209191#011validation-rmse:0.309207\u001b[0m\n",
      "\u001b[34m[11:39:58] src/tree/updater_prune.cc:74: tree pruning end, 1 roots, 0 extra nodes, 46 pruned nodes, max_depth=0\u001b[0m\n",
      "\u001b[34m[166]#011train-rmse:0.209193#011validation-rmse:0.309208\u001b[0m\n",
      "\u001b[34m[11:40:01] src/tree/updater_prune.cc:74: tree pruning end, 1 roots, 0 extra nodes, 42 pruned nodes, max_depth=0\u001b[0m\n",
      "\u001b[34m[167]#011train-rmse:0.209195#011validation-rmse:0.30921\u001b[0m\n",
      "\u001b[34m[11:40:04] src/tree/updater_prune.cc:74: tree pruning end, 1 roots, 22 extra nodes, 38 pruned nodes, max_depth=10\u001b[0m\n",
      "\u001b[34m[168]#011train-rmse:0.208849#011validation-rmse:0.309232\u001b[0m\n",
      "\u001b[34m[11:40:08] src/tree/updater_prune.cc:74: tree pruning end, 1 roots, 16 extra nodes, 52 pruned nodes, max_depth=8\u001b[0m\n",
      "\u001b[34m[169]#011train-rmse:0.208629#011validation-rmse:0.309237\u001b[0m\n",
      "\u001b[34m[11:40:11] src/tree/updater_prune.cc:74: tree pruning end, 1 roots, 22 extra nodes, 40 pruned nodes, max_depth=11\u001b[0m\n",
      "\u001b[34m[170]#011train-rmse:0.208316#011validation-rmse:0.309122\u001b[0m\n",
      "\u001b[34m[11:40:14] src/tree/updater_prune.cc:74: tree pruning end, 1 roots, 30 extra nodes, 34 pruned nodes, max_depth=12\u001b[0m\n",
      "\u001b[34m[171]#011train-rmse:0.207752#011validation-rmse:0.308809\u001b[0m\n",
      "\u001b[34m[11:40:18] src/tree/updater_prune.cc:74: tree pruning end, 1 roots, 0 extra nodes, 48 pruned nodes, max_depth=0\u001b[0m\n",
      "\u001b[34m[172]#011train-rmse:0.207761#011validation-rmse:0.308816\u001b[0m\n",
      "\u001b[34m[11:40:21] src/tree/updater_prune.cc:74: tree pruning end, 1 roots, 18 extra nodes, 50 pruned nodes, max_depth=9\u001b[0m\n",
      "\u001b[34m[173]#011train-rmse:0.207554#011validation-rmse:0.308824\u001b[0m\n",
      "\u001b[34m[11:40:24] src/tree/updater_prune.cc:74: tree pruning end, 1 roots, 0 extra nodes, 42 pruned nodes, max_depth=0\u001b[0m\n",
      "\u001b[34m[174]#011train-rmse:0.207541#011validation-rmse:0.308815\u001b[0m\n",
      "\u001b[34m[11:40:27] src/tree/updater_prune.cc:74: tree pruning end, 1 roots, 26 extra nodes, 28 pruned nodes, max_depth=12\u001b[0m\n",
      "\u001b[34m[175]#011train-rmse:0.207174#011validation-rmse:0.308822\u001b[0m\n",
      "\u001b[34m[11:40:31] src/tree/updater_prune.cc:74: tree pruning end, 1 roots, 0 extra nodes, 46 pruned nodes, max_depth=0\u001b[0m\n",
      "\u001b[34m[176]#011train-rmse:0.207183#011validation-rmse:0.308828\u001b[0m\n",
      "\u001b[34m[11:40:34] src/tree/updater_prune.cc:74: tree pruning end, 1 roots, 22 extra nodes, 44 pruned nodes, max_depth=11\u001b[0m\n",
      "\u001b[34m[177]#011train-rmse:0.206966#011validation-rmse:0.308626\u001b[0m\n",
      "\u001b[34m[11:40:37] src/tree/updater_prune.cc:74: tree pruning end, 1 roots, 24 extra nodes, 46 pruned nodes, max_depth=11\u001b[0m\n",
      "\u001b[34m[178]#011train-rmse:0.2066#011validation-rmse:0.308597\u001b[0m\n",
      "\u001b[34m[11:40:41] src/tree/updater_prune.cc:74: tree pruning end, 1 roots, 28 extra nodes, 66 pruned nodes, max_depth=11\u001b[0m\n",
      "\u001b[34m[179]#011train-rmse:0.206149#011validation-rmse:0.308583\u001b[0m\n",
      "\u001b[34m[11:40:44] src/tree/updater_prune.cc:74: tree pruning end, 1 roots, 22 extra nodes, 24 pruned nodes, max_depth=11\u001b[0m\n",
      "\u001b[34m[180]#011train-rmse:0.20585#011validation-rmse:0.308659\u001b[0m\n",
      "\u001b[34m[11:40:47] src/tree/updater_prune.cc:74: tree pruning end, 1 roots, 14 extra nodes, 74 pruned nodes, max_depth=7\u001b[0m\n",
      "\u001b[34m[181]#011train-rmse:0.205631#011validation-rmse:0.30881\u001b[0m\n",
      "\u001b[34m[11:40:51] src/tree/updater_prune.cc:74: tree pruning end, 1 roots, 20 extra nodes, 66 pruned nodes, max_depth=10\u001b[0m\n",
      "\u001b[34m[182]#011train-rmse:0.205298#011validation-rmse:0.308809\u001b[0m\n",
      "\u001b[34m[11:40:54] src/tree/updater_prune.cc:74: tree pruning end, 1 roots, 0 extra nodes, 46 pruned nodes, max_depth=0\u001b[0m\n",
      "\u001b[34m[183]#011train-rmse:0.20531#011validation-rmse:0.308818\u001b[0m\n",
      "\u001b[34m[11:40:57] src/tree/updater_prune.cc:74: tree pruning end, 1 roots, 0 extra nodes, 60 pruned nodes, max_depth=0\u001b[0m\n",
      "\u001b[34m[184]#011train-rmse:0.205306#011validation-rmse:0.308815\u001b[0m\n",
      "\u001b[34m[11:41:00] src/tree/updater_prune.cc:74: tree pruning end, 1 roots, 2 extra nodes, 44 pruned nodes, max_depth=1\u001b[0m\n",
      "\u001b[34m[185]#011train-rmse:0.205265#011validation-rmse:0.308825\u001b[0m\n",
      "\u001b[34m[11:41:04] src/tree/updater_prune.cc:74: tree pruning end, 1 roots, 0 extra nodes, 50 pruned nodes, max_depth=0\u001b[0m\n",
      "\u001b[34m[186]#011train-rmse:0.205265#011validation-rmse:0.308826\u001b[0m\n",
      "\u001b[34m[11:41:07] src/tree/updater_prune.cc:74: tree pruning end, 1 roots, 20 extra nodes, 44 pruned nodes, max_depth=9\u001b[0m\n",
      "\u001b[34m[187]#011train-rmse:0.205014#011validation-rmse:0.308662\u001b[0m\n",
      "\u001b[34m[11:41:10] src/tree/updater_prune.cc:74: tree pruning end, 1 roots, 0 extra nodes, 56 pruned nodes, max_depth=0\u001b[0m\n",
      "\u001b[34m[188]#011train-rmse:0.205006#011validation-rmse:0.308656\u001b[0m\n",
      "\u001b[34m[11:41:14] src/tree/updater_prune.cc:74: tree pruning end, 1 roots, 24 extra nodes, 38 pruned nodes, max_depth=12\u001b[0m\n",
      "\u001b[34m[189]#011train-rmse:0.204682#011validation-rmse:0.308651\u001b[0m\n",
      "\u001b[34mStopping. Best iteration:\u001b[0m\n",
      "\u001b[34m[179]#011train-rmse:0.206149#011validation-rmse:0.308583\n",
      "\u001b[0m\n",
      "Training seconds: 699\n",
      "Billable seconds: 699\n"
     ]
    }
   ],
   "source": [
    "# TODO: Create a new estimator object attached to the best training job found during hyperparameter tuning\n",
    "\n",
    "xgb_attached = sagemaker.estimator.Estimator.attach(xgb_hyperparameter_tuner.best_training_job())"
   ]
  },
  {
   "cell_type": "markdown",
   "metadata": {},
   "source": [
    "Now that we have an estimator object attached to the correct training job, we can proceed as we normally would and create a transformer object."
   ]
  },
  {
   "cell_type": "code",
   "execution_count": 26,
   "metadata": {},
   "outputs": [],
   "source": [
    "# TODO: Create a transformer object from the attached estimator. Using an instance count of 1 and an instance type of ml.m4.xlarge\n",
    "#       should be more than enough.\n",
    "\n",
    "xgb_transformer = xgb_attached.transformer(instance_count = 1, instance_type = 'ml.m4.xlarge')"
   ]
  },
  {
   "cell_type": "markdown",
   "metadata": {},
   "source": [
    "Next we actually perform the transform job. When doing so we need to make sure to specify the type of data we are sending so that it is serialized correctly in the background. In our case we are providing our model with csv data so we specify `text/csv`. Also, if the test data that we have provided is too large to process all at once then we need to specify how the data file should be split up. Since each line is a single entry in our data set we tell SageMaker that it can split the input on each line."
   ]
  },
  {
   "cell_type": "code",
   "execution_count": 28,
   "metadata": {},
   "outputs": [],
   "source": [
    "# TODO: Start the transform job. Make sure to specify the content type and the split type of the test data.\n",
    "xgb_transformer.transform(test_location, content_type='text/csv', split_type='Line')"
   ]
  },
  {
   "cell_type": "markdown",
   "metadata": {},
   "source": [
    "Currently the transform job is running but it is doing so in the background. Since we wish to wait until the transform job is done and we would like a bit of feedback we can run the `wait()` method."
   ]
  },
  {
   "cell_type": "code",
   "execution_count": 29,
   "metadata": {},
   "outputs": [
    {
     "name": "stdout",
     "output_type": "stream",
     "text": [
      ".....................\u001b[34mArguments: serve\u001b[0m\n",
      "\u001b[34m[2020-06-02 12:00:35 +0000] [1] [INFO] Starting gunicorn 19.7.1\u001b[0m\n",
      "\u001b[34m[2020-06-02 12:00:35 +0000] [1] [INFO] Listening at: http://0.0.0.0:8080 (1)\u001b[0m\n",
      "\u001b[34m[2020-06-02 12:00:35 +0000] [1] [INFO] Using worker: gevent\u001b[0m\n",
      "\u001b[34m[2020-06-02 12:00:35 +0000] [38] [INFO] Booting worker with pid: 38\u001b[0m\n",
      "\u001b[34m[2020-06-02 12:00:35 +0000] [39] [INFO] Booting worker with pid: 39\u001b[0m\n",
      "\u001b[34m[2020-06-02 12:00:35 +0000] [40] [INFO] Booting worker with pid: 40\u001b[0m\n",
      "\u001b[34m[2020-06-02 12:00:36 +0000] [41] [INFO] Booting worker with pid: 41\u001b[0m\n",
      "\u001b[34m[2020-06-02:12:00:36:INFO] Model loaded successfully for worker : 38\u001b[0m\n",
      "\u001b[34m[2020-06-02:12:00:36:INFO] Model loaded successfully for worker : 39\u001b[0m\n",
      "\u001b[34m[2020-06-02:12:00:36:INFO] Model loaded successfully for worker : 40\u001b[0m\n",
      "\u001b[34m[2020-06-02:12:00:36:INFO] Model loaded successfully for worker : 41\u001b[0m\n",
      "\u001b[34m[2020-06-02:12:01:10:INFO] Sniff delimiter as ','\u001b[0m\n",
      "\u001b[34m[2020-06-02:12:01:10:INFO] Determined delimiter of CSV input is ','\u001b[0m\n",
      "\u001b[34m[2020-06-02:12:01:10:INFO] Sniff delimiter as ','\u001b[0m\n",
      "\u001b[34m[2020-06-02:12:01:10:INFO] Determined delimiter of CSV input is ','\u001b[0m\n",
      "\u001b[34m[2020-06-02:12:01:10:INFO] Sniff delimiter as ','\u001b[0m\n",
      "\u001b[34m[2020-06-02:12:01:10:INFO] Determined delimiter of CSV input is ','\u001b[0m\n",
      "\u001b[35m[2020-06-02:12:01:10:INFO] Sniff delimiter as ','\u001b[0m\n",
      "\u001b[35m[2020-06-02:12:01:10:INFO] Determined delimiter of CSV input is ','\u001b[0m\n",
      "\u001b[35m[2020-06-02:12:01:10:INFO] Sniff delimiter as ','\u001b[0m\n",
      "\u001b[35m[2020-06-02:12:01:10:INFO] Determined delimiter of CSV input is ','\u001b[0m\n",
      "\u001b[35m[2020-06-02:12:01:10:INFO] Sniff delimiter as ','\u001b[0m\n",
      "\u001b[35m[2020-06-02:12:01:10:INFO] Determined delimiter of CSV input is ','\u001b[0m\n",
      "\u001b[34m[2020-06-02:12:01:12:INFO] Sniff delimiter as ','\u001b[0m\n",
      "\u001b[34m[2020-06-02:12:01:12:INFO] Determined delimiter of CSV input is ','\u001b[0m\n",
      "\u001b[34m[2020-06-02:12:01:12:INFO] Sniff delimiter as ','\u001b[0m\n",
      "\u001b[34m[2020-06-02:12:01:12:INFO] Determined delimiter of CSV input is ','\u001b[0m\n",
      "\u001b[34m[2020-06-02:12:01:12:INFO] Sniff delimiter as ','\u001b[0m\n",
      "\u001b[34m[2020-06-02:12:01:12:INFO] Determined delimiter of CSV input is ','\u001b[0m\n",
      "\u001b[35m[2020-06-02:12:01:12:INFO] Sniff delimiter as ','\u001b[0m\n",
      "\u001b[35m[2020-06-02:12:01:12:INFO] Determined delimiter of CSV input is ','\u001b[0m\n",
      "\u001b[35m[2020-06-02:12:01:12:INFO] Sniff delimiter as ','\u001b[0m\n",
      "\u001b[35m[2020-06-02:12:01:12:INFO] Determined delimiter of CSV input is ','\u001b[0m\n",
      "\u001b[35m[2020-06-02:12:01:12:INFO] Sniff delimiter as ','\u001b[0m\n",
      "\u001b[35m[2020-06-02:12:01:12:INFO] Determined delimiter of CSV input is ','\u001b[0m\n",
      "\u001b[34m[2020-06-02:12:01:13:INFO] Sniff delimiter as ','\u001b[0m\n",
      "\u001b[34m[2020-06-02:12:01:13:INFO] Determined delimiter of CSV input is ','\u001b[0m\n",
      "\u001b[35m[2020-06-02:12:01:13:INFO] Sniff delimiter as ','\u001b[0m\n",
      "\u001b[35m[2020-06-02:12:01:13:INFO] Determined delimiter of CSV input is ','\u001b[0m\n",
      "\u001b[34m[2020-06-02:12:01:13:INFO] Sniff delimiter as ','\u001b[0m\n",
      "\u001b[34m[2020-06-02:12:01:13:INFO] Determined delimiter of CSV input is ','\u001b[0m\n",
      "\u001b[34m[2020-06-02:12:01:14:INFO] Sniff delimiter as ','\u001b[0m\n",
      "\u001b[34m[2020-06-02:12:01:14:INFO] Determined delimiter of CSV input is ','\u001b[0m\n",
      "\u001b[34m[2020-06-02:12:01:14:INFO] Sniff delimiter as ','\u001b[0m\n",
      "\u001b[35m[2020-06-02:12:01:13:INFO] Sniff delimiter as ','\u001b[0m\n",
      "\u001b[35m[2020-06-02:12:01:13:INFO] Determined delimiter of CSV input is ','\u001b[0m\n",
      "\u001b[35m[2020-06-02:12:01:14:INFO] Sniff delimiter as ','\u001b[0m\n",
      "\u001b[35m[2020-06-02:12:01:14:INFO] Determined delimiter of CSV input is ','\u001b[0m\n",
      "\u001b[35m[2020-06-02:12:01:14:INFO] Sniff delimiter as ','\u001b[0m\n",
      "\u001b[34m[2020-06-02:12:01:14:INFO] Determined delimiter of CSV input is ','\u001b[0m\n",
      "\u001b[35m[2020-06-02:12:01:14:INFO] Determined delimiter of CSV input is ','\u001b[0m\n",
      "\u001b[34m[2020-06-02:12:01:15:INFO] Sniff delimiter as ','\u001b[0m\n",
      "\u001b[34m[2020-06-02:12:01:15:INFO] Determined delimiter of CSV input is ','\u001b[0m\n",
      "\u001b[34m[2020-06-02:12:01:16:INFO] Sniff delimiter as ','\u001b[0m\n",
      "\u001b[34m[2020-06-02:12:01:16:INFO] Determined delimiter of CSV input is ','\u001b[0m\n",
      "\u001b[35m[2020-06-02:12:01:15:INFO] Sniff delimiter as ','\u001b[0m\n",
      "\u001b[35m[2020-06-02:12:01:15:INFO] Determined delimiter of CSV input is ','\u001b[0m\n",
      "\u001b[35m[2020-06-02:12:01:16:INFO] Sniff delimiter as ','\u001b[0m\n",
      "\u001b[35m[2020-06-02:12:01:16:INFO] Determined delimiter of CSV input is ','\u001b[0m\n",
      "\u001b[34m[2020-06-02:12:01:17:INFO] Sniff delimiter as ','\u001b[0m\n",
      "\u001b[34m[2020-06-02:12:01:17:INFO] Determined delimiter of CSV input is ','\u001b[0m\n",
      "\u001b[34m[2020-06-02:12:01:17:INFO] Sniff delimiter as ','\u001b[0m\n",
      "\u001b[34m[2020-06-02:12:01:17:INFO] Determined delimiter of CSV input is ','\u001b[0m\n",
      "\u001b[35m[2020-06-02:12:01:17:INFO] Sniff delimiter as ','\u001b[0m\n",
      "\u001b[35m[2020-06-02:12:01:17:INFO] Determined delimiter of CSV input is ','\u001b[0m\n",
      "\u001b[35m[2020-06-02:12:01:17:INFO] Sniff delimiter as ','\u001b[0m\n",
      "\u001b[35m[2020-06-02:12:01:17:INFO] Determined delimiter of CSV input is ','\u001b[0m\n",
      "\u001b[34m[2020-06-02:12:01:18:INFO] Sniff delimiter as ','\u001b[0m\n",
      "\u001b[34m[2020-06-02:12:01:18:INFO] Determined delimiter of CSV input is ','\u001b[0m\n",
      "\u001b[35m[2020-06-02:12:01:18:INFO] Sniff delimiter as ','\u001b[0m\n",
      "\u001b[35m[2020-06-02:12:01:18:INFO] Determined delimiter of CSV input is ','\u001b[0m\n",
      "\u001b[34m[2020-06-02:12:01:18:INFO] Sniff delimiter as ','\u001b[0m\n",
      "\u001b[34m[2020-06-02:12:01:18:INFO] Determined delimiter of CSV input is ','\u001b[0m\n",
      "\u001b[34m[2020-06-02:12:01:19:INFO] Sniff delimiter as ','\u001b[0m\n",
      "\u001b[34m[2020-06-02:12:01:19:INFO] Determined delimiter of CSV input is ','\u001b[0m\n",
      "\u001b[34m[2020-06-02:12:01:19:INFO] Sniff delimiter as ','\u001b[0m\n",
      "\u001b[34m[2020-06-02:12:01:19:INFO] Determined delimiter of CSV input is ','\u001b[0m\n",
      "\u001b[35m[2020-06-02:12:01:18:INFO] Sniff delimiter as ','\u001b[0m\n",
      "\u001b[35m[2020-06-02:12:01:18:INFO] Determined delimiter of CSV input is ','\u001b[0m\n",
      "\u001b[35m[2020-06-02:12:01:19:INFO] Sniff delimiter as ','\u001b[0m\n",
      "\u001b[35m[2020-06-02:12:01:19:INFO] Determined delimiter of CSV input is ','\u001b[0m\n",
      "\u001b[35m[2020-06-02:12:01:19:INFO] Sniff delimiter as ','\u001b[0m\n",
      "\u001b[35m[2020-06-02:12:01:19:INFO] Determined delimiter of CSV input is ','\u001b[0m\n",
      "\u001b[34m[2020-06-02:12:01:21:INFO] Sniff delimiter as ','\u001b[0m\n",
      "\u001b[34m[2020-06-02:12:01:21:INFO] Determined delimiter of CSV input is ','\u001b[0m\n",
      "\u001b[35m[2020-06-02:12:01:21:INFO] Sniff delimiter as ','\u001b[0m\n",
      "\u001b[35m[2020-06-02:12:01:21:INFO] Determined delimiter of CSV input is ','\u001b[0m\n",
      "\u001b[34m[2020-06-02:12:01:23:INFO] Sniff delimiter as ','\u001b[0m\n",
      "\u001b[34m[2020-06-02:12:01:23:INFO] Determined delimiter of CSV input is ','\u001b[0m\n",
      "\u001b[35m[2020-06-02:12:01:23:INFO] Sniff delimiter as ','\u001b[0m\n",
      "\u001b[35m[2020-06-02:12:01:23:INFO] Determined delimiter of CSV input is ','\u001b[0m\n",
      "\u001b[34m[2020-06-02:12:01:23:INFO] Sniff delimiter as ','\u001b[0m\n",
      "\u001b[34m[2020-06-02:12:01:23:INFO] Determined delimiter of CSV input is ','\u001b[0m\n",
      "\u001b[34m[2020-06-02:12:01:24:INFO] Sniff delimiter as ','\u001b[0m\n",
      "\u001b[34m[2020-06-02:12:01:24:INFO] Determined delimiter of CSV input is ','\u001b[0m\n",
      "\u001b[34m[2020-06-02:12:01:24:INFO] Sniff delimiter as ','\u001b[0m\n",
      "\u001b[34m[2020-06-02:12:01:24:INFO] Determined delimiter of CSV input is ','\u001b[0m\n",
      "\u001b[35m[2020-06-02:12:01:23:INFO] Sniff delimiter as ','\u001b[0m\n",
      "\u001b[35m[2020-06-02:12:01:23:INFO] Determined delimiter of CSV input is ','\u001b[0m\n",
      "\u001b[35m[2020-06-02:12:01:24:INFO] Sniff delimiter as ','\u001b[0m\n",
      "\u001b[35m[2020-06-02:12:01:24:INFO] Determined delimiter of CSV input is ','\u001b[0m\n",
      "\u001b[35m[2020-06-02:12:01:24:INFO] Sniff delimiter as ','\u001b[0m\n",
      "\u001b[35m[2020-06-02:12:01:24:INFO] Determined delimiter of CSV input is ','\u001b[0m\n",
      "\u001b[34m[2020-06-02:12:01:25:INFO] Sniff delimiter as ','\u001b[0m\n",
      "\u001b[34m[2020-06-02:12:01:25:INFO] Determined delimiter of CSV input is ','\u001b[0m\n",
      "\u001b[35m[2020-06-02:12:01:25:INFO] Sniff delimiter as ','\u001b[0m\n",
      "\u001b[35m[2020-06-02:12:01:25:INFO] Determined delimiter of CSV input is ','\u001b[0m\n",
      "\u001b[34m[2020-06-02:12:01:26:INFO] Sniff delimiter as ','\u001b[0m\n",
      "\u001b[34m[2020-06-02:12:01:26:INFO] Determined delimiter of CSV input is ','\u001b[0m\n",
      "\u001b[34m[2020-06-02:12:01:26:INFO] Sniff delimiter as ','\u001b[0m\n",
      "\u001b[34m[2020-06-02:12:01:26:INFO] Determined delimiter of CSV input is ','\u001b[0m\n",
      "\u001b[35m[2020-06-02:12:01:26:INFO] Sniff delimiter as ','\u001b[0m\n",
      "\u001b[35m[2020-06-02:12:01:26:INFO] Determined delimiter of CSV input is ','\u001b[0m\n",
      "\u001b[35m[2020-06-02:12:01:26:INFO] Sniff delimiter as ','\u001b[0m\n",
      "\u001b[35m[2020-06-02:12:01:26:INFO] Determined delimiter of CSV input is ','\u001b[0m\n",
      "\u001b[34m[2020-06-02:12:01:26:INFO] Sniff delimiter as ','\u001b[0m\n",
      "\u001b[35m[2020-06-02:12:01:26:INFO] Sniff delimiter as ','\u001b[0m\n",
      "\u001b[34m[2020-06-02:12:01:26:INFO] Determined delimiter of CSV input is ','\u001b[0m\n",
      "\u001b[35m[2020-06-02:12:01:26:INFO] Determined delimiter of CSV input is ','\u001b[0m\n",
      "\u001b[34m[2020-06-02:12:01:28:INFO] Sniff delimiter as ','\u001b[0m\n",
      "\u001b[34m[2020-06-02:12:01:28:INFO] Determined delimiter of CSV input is ','\u001b[0m\n",
      "\u001b[34m[2020-06-02:12:01:28:INFO] Sniff delimiter as ','\u001b[0m\n",
      "\u001b[34m[2020-06-02:12:01:28:INFO] Determined delimiter of CSV input is ','\u001b[0m\n",
      "\u001b[35m[2020-06-02:12:01:28:INFO] Sniff delimiter as ','\u001b[0m\n",
      "\u001b[35m[2020-06-02:12:01:28:INFO] Determined delimiter of CSV input is ','\u001b[0m\n",
      "\u001b[35m[2020-06-02:12:01:28:INFO] Sniff delimiter as ','\u001b[0m\n",
      "\u001b[35m[2020-06-02:12:01:28:INFO] Determined delimiter of CSV input is ','\u001b[0m\n",
      "\u001b[34m[2020-06-02:12:01:29:INFO] Sniff delimiter as ','\u001b[0m\n",
      "\u001b[34m[2020-06-02:12:01:29:INFO] Determined delimiter of CSV input is ','\u001b[0m\n",
      "\u001b[34m[2020-06-02:12:01:29:INFO] Sniff delimiter as ','\u001b[0m\n",
      "\u001b[35m[2020-06-02:12:01:29:INFO] Sniff delimiter as ','\u001b[0m\n",
      "\u001b[35m[2020-06-02:12:01:29:INFO] Determined delimiter of CSV input is ','\u001b[0m\n",
      "\u001b[35m[2020-06-02:12:01:29:INFO] Sniff delimiter as ','\u001b[0m\n",
      "\u001b[34m[2020-06-02:12:01:29:INFO] Determined delimiter of CSV input is ','\u001b[0m\n",
      "\u001b[35m[2020-06-02:12:01:29:INFO] Determined delimiter of CSV input is ','\u001b[0m\n",
      "\u001b[34m[2020-06-02:12:01:30:INFO] Sniff delimiter as ','\u001b[0m\n",
      "\u001b[34m[2020-06-02:12:01:30:INFO] Determined delimiter of CSV input is ','\u001b[0m\n",
      "\u001b[35m[2020-06-02:12:01:30:INFO] Sniff delimiter as ','\u001b[0m\n",
      "\u001b[35m[2020-06-02:12:01:30:INFO] Determined delimiter of CSV input is ','\u001b[0m\n"
     ]
    },
    {
     "name": "stdout",
     "output_type": "stream",
     "text": [
      "\n",
      "\u001b[32m2020-06-02T12:01:06.910:[sagemaker logs]: MaxConcurrentTransforms=4, MaxPayloadInMB=6, BatchStrategy=MULTI_RECORD\u001b[0m\n",
      "\u001b[34m[2020-06-02:12:01:31:INFO] Sniff delimiter as ','\u001b[0m\n",
      "\u001b[34m[2020-06-02:12:01:31:INFO] Determined delimiter of CSV input is ','\u001b[0m\n",
      "\u001b[35m[2020-06-02:12:01:31:INFO] Sniff delimiter as ','\u001b[0m\n",
      "\u001b[35m[2020-06-02:12:01:31:INFO] Determined delimiter of CSV input is ','\u001b[0m\n",
      "\u001b[34m[2020-06-02:12:01:31:INFO] Sniff delimiter as ','\u001b[0m\n",
      "\u001b[34m[2020-06-02:12:01:31:INFO] Determined delimiter of CSV input is ','\u001b[0m\n",
      "\u001b[35m[2020-06-02:12:01:31:INFO] Sniff delimiter as ','\u001b[0m\n",
      "\u001b[35m[2020-06-02:12:01:31:INFO] Determined delimiter of CSV input is ','\u001b[0m\n",
      "\u001b[34m[2020-06-02:12:01:33:INFO] Sniff delimiter as ','\u001b[0m\n",
      "\u001b[34m[2020-06-02:12:01:33:INFO] Determined delimiter of CSV input is ','\u001b[0m\n",
      "\u001b[34m[2020-06-02:12:01:33:INFO] Sniff delimiter as ','\u001b[0m\n",
      "\u001b[34m[2020-06-02:12:01:33:INFO] Determined delimiter of CSV input is ','\u001b[0m\n",
      "\u001b[35m[2020-06-02:12:01:33:INFO] Sniff delimiter as ','\u001b[0m\n",
      "\u001b[35m[2020-06-02:12:01:33:INFO] Determined delimiter of CSV input is ','\u001b[0m\n",
      "\u001b[35m[2020-06-02:12:01:33:INFO] Sniff delimiter as ','\u001b[0m\n",
      "\u001b[35m[2020-06-02:12:01:33:INFO] Determined delimiter of CSV input is ','\u001b[0m\n"
     ]
    }
   ],
   "source": [
    "xgb_transformer.wait()"
   ]
  },
  {
   "cell_type": "markdown",
   "metadata": {},
   "source": [
    "Now the transform job has executed and the result, the estimated sentiment of each review, has been saved on S3. Since we would rather work on this file locally we can perform a bit of notebook magic to copy the file to the `data_dir`."
   ]
  },
  {
   "cell_type": "code",
   "execution_count": 30,
   "metadata": {},
   "outputs": [
    {
     "name": "stdout",
     "output_type": "stream",
     "text": [
      "Completed 256.0 KiB/373.0 KiB (1.4 MiB/s) with 1 file(s) remaining\r",
      "Completed 373.0 KiB/373.0 KiB (2.1 MiB/s) with 1 file(s) remaining\r",
      "download: s3://sagemaker-us-east-1-861533054918/xgboost-200602-1111-006-a58b10ab-2020-06-02-11-57-08-091/test.csv.out to ../data/xgboost/test.csv.out\r\n"
     ]
    }
   ],
   "source": [
    "!aws s3 cp --recursive $xgb_transformer.output_path $data_dir"
   ]
  },
  {
   "cell_type": "markdown",
   "metadata": {},
   "source": [
    "The last step is now to read in the output from our model, convert the output to something a little more usable, in this case we want the sentiment to be either `1` (positive) or `0` (negative), and then compare to the ground truth labels."
   ]
  },
  {
   "cell_type": "code",
   "execution_count": 31,
   "metadata": {},
   "outputs": [],
   "source": [
    "predictions = pd.read_csv(os.path.join(data_dir, 'test.csv.out'), header=None)\n",
    "predictions = [round(num) for num in predictions.squeeze().values]"
   ]
  },
  {
   "cell_type": "code",
   "execution_count": 32,
   "metadata": {},
   "outputs": [
    {
     "data": {
      "text/plain": [
       "0.86728"
      ]
     },
     "execution_count": 32,
     "metadata": {},
     "output_type": "execute_result"
    }
   ],
   "source": [
    "from sklearn.metrics import accuracy_score\n",
    "accuracy_score(test_y, predictions)"
   ]
  },
  {
   "cell_type": "markdown",
   "metadata": {},
   "source": [
    "## Optional: Clean up\n",
    "\n",
    "The default notebook instance on SageMaker doesn't have a lot of excess disk space available. As you continue to complete and execute notebooks you will eventually fill up this disk space, leading to errors which can be difficult to diagnose. Once you are completely finished using a notebook it is a good idea to remove the files that you created along the way. Of course, you can do this from the terminal or from the notebook hub if you would like. The cell below contains some commands to clean up the created files from within the notebook."
   ]
  },
  {
   "cell_type": "code",
   "execution_count": 33,
   "metadata": {},
   "outputs": [],
   "source": [
    "# First we will remove all of the files contained in the data_dir directory\n",
    "!rm $data_dir/*\n",
    "\n",
    "# And then we delete the directory itself\n",
    "!rmdir $data_dir\n",
    "\n",
    "# Similarly we will remove the files in the cache_dir directory and the directory itself\n",
    "!rm $cache_dir/*\n",
    "!rmdir $cache_dir"
   ]
  },
  {
   "cell_type": "code",
   "execution_count": null,
   "metadata": {},
   "outputs": [],
   "source": []
  }
 ],
 "metadata": {
  "kernelspec": {
   "display_name": "conda_python3",
   "language": "python",
   "name": "conda_python3"
  },
  "language_info": {
   "codemirror_mode": {
    "name": "ipython",
    "version": 3
   },
   "file_extension": ".py",
   "mimetype": "text/x-python",
   "name": "python",
   "nbconvert_exporter": "python",
   "pygments_lexer": "ipython3",
   "version": "3.6.5"
  }
 },
 "nbformat": 4,
 "nbformat_minor": 2
}
